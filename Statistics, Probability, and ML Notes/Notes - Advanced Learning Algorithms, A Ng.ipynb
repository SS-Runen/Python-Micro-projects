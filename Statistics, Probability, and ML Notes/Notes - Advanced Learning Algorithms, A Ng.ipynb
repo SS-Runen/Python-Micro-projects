{
  "cells": [
    {
      "cell_type": "markdown",
      "metadata": {
        "id": "3zEBzSehumTO"
      },
      "source": [
        "# Matrix and Vector Multiplication"
      ]
    },
    {
      "cell_type": "code",
      "execution_count": null,
      "metadata": {
        "id": "3TttqeP2WAlZ"
      },
      "outputs": [],
      "source": [
        "import numpy as np\n",
        "import pandas as pd\n",
        "import tensorflow as tf\n",
        "import tensorflow_datasets as tfds"
      ]
    },
    {
      "cell_type": "code",
      "execution_count": null,
      "metadata": {
        "id": "pW2L-ApwWEzf"
      },
      "outputs": [],
      "source": [
        "matrix_a = np.array([[3, 4, 2]])\n",
        "matrix_b = np.array([[13,9,7,15],[8,7,4,6], [6,4,0,3]])"
      ]
    },
    {
      "cell_type": "code",
      "execution_count": null,
      "metadata": {
        "colab": {
          "base_uri": "https://localhost:8080/"
        },
        "id": "V86IV__-XQdk",
        "outputId": "3d9c6ee4-e8e2-4f17-e753-32d853a3b261"
      },
      "outputs": [
        {
          "data": {
            "text/plain": [
              "array([[83, 63, 37, 75]])"
            ]
          },
          "execution_count": 3,
          "metadata": {},
          "output_type": "execute_result"
        }
      ],
      "source": [
        "np.matmul(matrix_a, matrix_b)"
      ]
    },
    {
      "cell_type": "code",
      "execution_count": null,
      "metadata": {
        "id": "-6WZRDgzWbH8"
      },
      "outputs": [],
      "source": [
        "vector_a = [1, 2, 3]\n",
        "vector_b = [2, 4, 6]"
      ]
    },
    {
      "cell_type": "code",
      "execution_count": null,
      "metadata": {
        "colab": {
          "base_uri": "https://localhost:8080/"
        },
        "id": "9nYJghLkWwOx",
        "outputId": "39299110-a006-4aea-96e2-53adb502fc31"
      },
      "outputs": [
        {
          "data": {
            "text/plain": [
              "28"
            ]
          },
          "execution_count": 5,
          "metadata": {},
          "output_type": "execute_result"
        }
      ],
      "source": [
        "np.dot(vector_a, vector_b)"
      ]
    },
    {
      "cell_type": "code",
      "execution_count": null,
      "metadata": {
        "colab": {
          "base_uri": "https://localhost:8080/"
        },
        "id": "Naan1-6dW5UF",
        "outputId": "c230399e-325c-4e4f-df2d-fff4056a384d"
      },
      "outputs": [
        {
          "data": {
            "text/plain": [
              "28"
            ]
          },
          "execution_count": 6,
          "metadata": {},
          "output_type": "execute_result"
        }
      ],
      "source": [
        "np.dot(np.transpose(vector_a), vector_b)"
      ]
    },
    {
      "cell_type": "markdown",
      "metadata": {
        "id": "2rW1VZjLxFKY"
      },
      "source": [
        "## Vectorized Parameter Update After Back-propagation\n",
        "Based on this video:\n",
        "Vectorizing Logistic Regression's Gradient Output\n",
        "\n",
        "https://www.coursera.org/learn/neural-networks-deep-learning/lecture/IgFnJ/vectorizing-logistic-regressions-gradient-output\n",
        "\n",
        "### Numpy Arrays vs. Mathematical Matrices\n",
        "- When working with Numpy ND-arrays, it is common to place each example or sample as a visual \"column\" with each row or item in the column holding a feature value of the sample. Each \"row\" holds different samples' values for one feature X.\n",
        "\n",
        "- Assume a parameter array W holding n_rows elements. Use W as the first matrix. Take the first and only row of W and multiply each element to the corresponding element in each column of X. In Numpy and in matrix multiplication, X has to be transposed if it is the first matrix. Matrix multiplication is not commutative.\n",
        "\n",
        "- It was recommended to use n x 1 or 1 x n arrays instead of (n, ) and (,n)\n",
        "arrays. There are some bugs that can be avoided that way."
      ]
    },
    {
      "cell_type": "code",
      "execution_count": null,
      "metadata": {
        "colab": {
          "base_uri": "https://localhost:8080/"
        },
        "id": "0zkDcLcpxB4p",
        "outputId": "593bc06f-f396-447f-bad5-10f4a3c38b52"
      },
      "outputs": [
        {
          "name": "stdout",
          "output_type": "stream",
          "text": [
            "[[11 21 31 41 51]\n",
            " [12 22 32 42 52]\n",
            " [13 23 33 43 53]]\n"
          ]
        }
      ],
      "source": [
        "# Simulated input with three features x1, x2, and x3.\n",
        "# Five columns. Each column is an example with rows corresponding to x1, x2, and x3\n",
        "X = np.array([\n",
        "    [11, 21, 31, 41, 51],\n",
        "    [12, 22, 32, 42, 52],\n",
        "    [13, 23, 33, 43, 53],\n",
        "])\n",
        "# Simulated array of initialized parameters W to match each feature x.\n",
        "W = np.array([[-1, 1, 1]])\n",
        "W_flat = np.array([-1, 1, 1])\n",
        "# Simulated array of bias values b.\n",
        "b = -25\n",
        "print(X)"
      ]
    },
    {
      "cell_type": "code",
      "execution_count": null,
      "metadata": {
        "colab": {
          "base_uri": "https://localhost:8080/"
        },
        "id": "KHWQRBzO5Eir",
        "outputId": "7c78510b-80cc-4fff-c04a-8100b198ea69"
      },
      "outputs": [
        {
          "data": {
            "text/plain": [
              "(3, 5)"
            ]
          },
          "execution_count": 8,
          "metadata": {},
          "output_type": "execute_result"
        }
      ],
      "source": [
        "X.shape"
      ]
    },
    {
      "cell_type": "code",
      "execution_count": null,
      "metadata": {
        "colab": {
          "base_uri": "https://localhost:8080/",
          "height": 143
        },
        "id": "gxnHMUYgCr4G",
        "outputId": "45c0eaa0-44eb-45d6-c99a-860e6895d7b3"
      },
      "outputs": [
        {
          "data": {
            "text/html": [
              "\n",
              "  <div id=\"df-67a65c6f-9e27-4fb0-9560-a97a5d6cd318\" class=\"colab-df-container\">\n",
              "    <div>\n",
              "<style scoped>\n",
              "    .dataframe tbody tr th:only-of-type {\n",
              "        vertical-align: middle;\n",
              "    }\n",
              "\n",
              "    .dataframe tbody tr th {\n",
              "        vertical-align: top;\n",
              "    }\n",
              "\n",
              "    .dataframe thead th {\n",
              "        text-align: right;\n",
              "    }\n",
              "</style>\n",
              "<table border=\"1\" class=\"dataframe\">\n",
              "  <thead>\n",
              "    <tr style=\"text-align: right;\">\n",
              "      <th></th>\n",
              "      <th>0</th>\n",
              "      <th>1</th>\n",
              "      <th>2</th>\n",
              "      <th>3</th>\n",
              "      <th>4</th>\n",
              "    </tr>\n",
              "  </thead>\n",
              "  <tbody>\n",
              "    <tr>\n",
              "      <th>0</th>\n",
              "      <td>11</td>\n",
              "      <td>21</td>\n",
              "      <td>31</td>\n",
              "      <td>41</td>\n",
              "      <td>51</td>\n",
              "    </tr>\n",
              "    <tr>\n",
              "      <th>1</th>\n",
              "      <td>12</td>\n",
              "      <td>22</td>\n",
              "      <td>32</td>\n",
              "      <td>42</td>\n",
              "      <td>52</td>\n",
              "    </tr>\n",
              "    <tr>\n",
              "      <th>2</th>\n",
              "      <td>13</td>\n",
              "      <td>23</td>\n",
              "      <td>33</td>\n",
              "      <td>43</td>\n",
              "      <td>53</td>\n",
              "    </tr>\n",
              "  </tbody>\n",
              "</table>\n",
              "</div>\n",
              "    <div class=\"colab-df-buttons\">\n",
              "\n",
              "  <div class=\"colab-df-container\">\n",
              "    <button class=\"colab-df-convert\" onclick=\"convertToInteractive('df-67a65c6f-9e27-4fb0-9560-a97a5d6cd318')\"\n",
              "            title=\"Convert this dataframe to an interactive table.\"\n",
              "            style=\"display:none;\">\n",
              "\n",
              "  <svg xmlns=\"http://www.w3.org/2000/svg\" height=\"24px\" viewBox=\"0 -960 960 960\">\n",
              "    <path d=\"M120-120v-720h720v720H120Zm60-500h600v-160H180v160Zm220 220h160v-160H400v160Zm0 220h160v-160H400v160ZM180-400h160v-160H180v160Zm440 0h160v-160H620v160ZM180-180h160v-160H180v160Zm440 0h160v-160H620v160Z\"/>\n",
              "  </svg>\n",
              "    </button>\n",
              "\n",
              "  <style>\n",
              "    .colab-df-container {\n",
              "      display:flex;\n",
              "      gap: 12px;\n",
              "    }\n",
              "\n",
              "    .colab-df-convert {\n",
              "      background-color: #E8F0FE;\n",
              "      border: none;\n",
              "      border-radius: 50%;\n",
              "      cursor: pointer;\n",
              "      display: none;\n",
              "      fill: #1967D2;\n",
              "      height: 32px;\n",
              "      padding: 0 0 0 0;\n",
              "      width: 32px;\n",
              "    }\n",
              "\n",
              "    .colab-df-convert:hover {\n",
              "      background-color: #E2EBFA;\n",
              "      box-shadow: 0px 1px 2px rgba(60, 64, 67, 0.3), 0px 1px 3px 1px rgba(60, 64, 67, 0.15);\n",
              "      fill: #174EA6;\n",
              "    }\n",
              "\n",
              "    .colab-df-buttons div {\n",
              "      margin-bottom: 4px;\n",
              "    }\n",
              "\n",
              "    [theme=dark] .colab-df-convert {\n",
              "      background-color: #3B4455;\n",
              "      fill: #D2E3FC;\n",
              "    }\n",
              "\n",
              "    [theme=dark] .colab-df-convert:hover {\n",
              "      background-color: #434B5C;\n",
              "      box-shadow: 0px 1px 3px 1px rgba(0, 0, 0, 0.15);\n",
              "      filter: drop-shadow(0px 1px 2px rgba(0, 0, 0, 0.3));\n",
              "      fill: #FFFFFF;\n",
              "    }\n",
              "  </style>\n",
              "\n",
              "    <script>\n",
              "      const buttonEl =\n",
              "        document.querySelector('#df-67a65c6f-9e27-4fb0-9560-a97a5d6cd318 button.colab-df-convert');\n",
              "      buttonEl.style.display =\n",
              "        google.colab.kernel.accessAllowed ? 'block' : 'none';\n",
              "\n",
              "      async function convertToInteractive(key) {\n",
              "        const element = document.querySelector('#df-67a65c6f-9e27-4fb0-9560-a97a5d6cd318');\n",
              "        const dataTable =\n",
              "          await google.colab.kernel.invokeFunction('convertToInteractive',\n",
              "                                                    [key], {});\n",
              "        if (!dataTable) return;\n",
              "\n",
              "        const docLinkHtml = 'Like what you see? Visit the ' +\n",
              "          '<a target=\"_blank\" href=https://colab.research.google.com/notebooks/data_table.ipynb>data table notebook</a>'\n",
              "          + ' to learn more about interactive tables.';\n",
              "        element.innerHTML = '';\n",
              "        dataTable['output_type'] = 'display_data';\n",
              "        await google.colab.output.renderOutput(dataTable, element);\n",
              "        const docLink = document.createElement('div');\n",
              "        docLink.innerHTML = docLinkHtml;\n",
              "        element.appendChild(docLink);\n",
              "      }\n",
              "    </script>\n",
              "  </div>\n",
              "\n",
              "\n",
              "<div id=\"df-26e90b91-caa2-4654-bcfa-14d89646d7c0\">\n",
              "  <button class=\"colab-df-quickchart\" onclick=\"quickchart('df-26e90b91-caa2-4654-bcfa-14d89646d7c0')\"\n",
              "            title=\"Suggest charts.\"\n",
              "            style=\"display:none;\">\n",
              "\n",
              "<svg xmlns=\"http://www.w3.org/2000/svg\" height=\"24px\"viewBox=\"0 0 24 24\"\n",
              "     width=\"24px\">\n",
              "    <g>\n",
              "        <path d=\"M19 3H5c-1.1 0-2 .9-2 2v14c0 1.1.9 2 2 2h14c1.1 0 2-.9 2-2V5c0-1.1-.9-2-2-2zM9 17H7v-7h2v7zm4 0h-2V7h2v10zm4 0h-2v-4h2v4z\"/>\n",
              "    </g>\n",
              "</svg>\n",
              "  </button>\n",
              "\n",
              "<style>\n",
              "  .colab-df-quickchart {\n",
              "    background-color: #E8F0FE;\n",
              "    border: none;\n",
              "    border-radius: 50%;\n",
              "    cursor: pointer;\n",
              "    display: none;\n",
              "    fill: #1967D2;\n",
              "    height: 32px;\n",
              "    padding: 0 0 0 0;\n",
              "    width: 32px;\n",
              "  }\n",
              "\n",
              "  .colab-df-quickchart:hover {\n",
              "    background-color: #E2EBFA;\n",
              "    box-shadow: 0px 1px 2px rgba(60, 64, 67, 0.3), 0px 1px 3px 1px rgba(60, 64, 67, 0.15);\n",
              "    fill: #174EA6;\n",
              "  }\n",
              "\n",
              "  [theme=dark] .colab-df-quickchart {\n",
              "    background-color: #3B4455;\n",
              "    fill: #D2E3FC;\n",
              "  }\n",
              "\n",
              "  [theme=dark] .colab-df-quickchart:hover {\n",
              "    background-color: #434B5C;\n",
              "    box-shadow: 0px 1px 3px 1px rgba(0, 0, 0, 0.15);\n",
              "    filter: drop-shadow(0px 1px 2px rgba(0, 0, 0, 0.3));\n",
              "    fill: #FFFFFF;\n",
              "  }\n",
              "</style>\n",
              "\n",
              "  <script>\n",
              "    async function quickchart(key) {\n",
              "      const charts = await google.colab.kernel.invokeFunction(\n",
              "          'suggestCharts', [key], {});\n",
              "    }\n",
              "    (() => {\n",
              "      let quickchartButtonEl =\n",
              "        document.querySelector('#df-26e90b91-caa2-4654-bcfa-14d89646d7c0 button');\n",
              "      quickchartButtonEl.style.display =\n",
              "        google.colab.kernel.accessAllowed ? 'block' : 'none';\n",
              "    })();\n",
              "  </script>\n",
              "</div>\n",
              "    </div>\n",
              "  </div>\n"
            ],
            "text/plain": [
              "    0   1   2   3   4\n",
              "0  11  21  31  41  51\n",
              "1  12  22  32  42  52\n",
              "2  13  23  33  43  53"
            ]
          },
          "execution_count": 9,
          "metadata": {},
          "output_type": "execute_result"
        }
      ],
      "source": [
        "df_X = pd.DataFrame(X)\n",
        "df_X.head()"
      ]
    },
    {
      "cell_type": "code",
      "execution_count": null,
      "metadata": {
        "colab": {
          "base_uri": "https://localhost:8080/"
        },
        "id": "ZC36WYVtCwLN",
        "outputId": "b0eaf4d8-c2fe-47fd-96c8-2e50ac99607f"
      },
      "outputs": [
        {
          "data": {
            "text/plain": [
              "(3, 5)"
            ]
          },
          "execution_count": 10,
          "metadata": {},
          "output_type": "execute_result"
        }
      ],
      "source": [
        "df_X.shape"
      ]
    },
    {
      "cell_type": "code",
      "execution_count": null,
      "metadata": {
        "colab": {
          "base_uri": "https://localhost:8080/"
        },
        "id": "8z4KtdfZ43dY",
        "outputId": "cb536bd0-4cdf-48ab-e815-551b72b6892d"
      },
      "outputs": [
        {
          "name": "stdout",
          "output_type": "stream",
          "text": [
            "[[-1  1  1]]\n"
          ]
        }
      ],
      "source": [
        "print(W)"
      ]
    },
    {
      "cell_type": "code",
      "execution_count": null,
      "metadata": {
        "colab": {
          "base_uri": "https://localhost:8080/"
        },
        "id": "1t4LB_CeZGC1",
        "outputId": "f7b459a5-02aa-4cc0-ae16-6986d42be16b"
      },
      "outputs": [
        {
          "data": {
            "text/plain": [
              "(1, 3)"
            ]
          },
          "execution_count": 12,
          "metadata": {},
          "output_type": "execute_result"
        }
      ],
      "source": [
        "W.shape"
      ]
    },
    {
      "cell_type": "markdown",
      "metadata": {
        "id": "ZiGWMt4h078t"
      },
      "source": [
        "In the samples below, W is a matrix of parameters w. Each row is an array of parameters set in one unit or neuron. Each column is an array of parameters corresponding to one feature.\n",
        "\n",
        "Z is an array of z values. The z values are the result of applying the polynomial $w_1x_1 + w_2x_2 + w_3x_3 + b$\n",
        "\n",
        "Here, the matrix/array of parameters W is multiplied with X. Again, this is NOT equivalent to X * W. Matrix multiplications are not commutative as a byproduct of matrix rules. W * X != X * W. However, W * X == X.T * W."
      ]
    },
    {
      "cell_type": "code",
      "execution_count": null,
      "metadata": {
        "colab": {
          "base_uri": "https://localhost:8080/"
        },
        "id": "I4Jx3KQcah9O",
        "outputId": "5ab3d8f0-ec37-424d-bd05-b6374cc4e4b6"
      },
      "outputs": [
        {
          "name": "stdout",
          "output_type": "stream",
          "text": [
            "3 | 3\n"
          ]
        }
      ],
      "source": [
        "print(X.shape[0], '|', W.shape[1])\n",
        "assert(X.shape[0] == W.shape[1])"
      ]
    },
    {
      "cell_type": "code",
      "execution_count": null,
      "metadata": {
        "colab": {
          "base_uri": "https://localhost:8080/"
        },
        "id": "llyfls7FdIwo",
        "outputId": "ed7e74b1-6577-4325-95a3-73afa51e217a"
      },
      "outputs": [
        {
          "name": "stdout",
          "output_type": "stream",
          "text": [
            "3 | 3\n"
          ]
        }
      ],
      "source": [
        "print(X.shape[0], '|', W_flat.shape[0])\n",
        "assert(X.shape[0] == W_flat.shape[0])"
      ]
    },
    {
      "cell_type": "code",
      "execution_count": null,
      "metadata": {
        "colab": {
          "base_uri": "https://localhost:8080/"
        },
        "id": "qd_l76OJ6d2Q",
        "outputId": "d9a6aebc-e923-438a-90b3-6283f70c492d"
      },
      "outputs": [
        {
          "name": "stdout",
          "output_type": "stream",
          "text": [
            "[[-11  -1   9  19  29]]\n"
          ]
        }
      ],
      "source": [
        "Z = np.dot(W, X) + b\n",
        "print(Z)"
      ]
    },
    {
      "cell_type": "code",
      "execution_count": null,
      "metadata": {
        "id": "EQifejLDuG_d"
      },
      "outputs": [],
      "source": [
        "# Check that Z's row count equals W's (first matrix) column count.\n",
        "assert(Z.shape[0] == W.shape[0])\n",
        "# Check that Z's column count equals X' (second matrix) row count.\n",
        "assert(Z.shape[1] == X.shape[1])"
      ]
    },
    {
      "cell_type": "code",
      "execution_count": null,
      "metadata": {
        "colab": {
          "base_uri": "https://localhost:8080/"
        },
        "id": "1KbORPLM6l1g",
        "outputId": "d6a3c7e3-7b66-42b5-9228-63438be0d535"
      },
      "outputs": [
        {
          "name": "stdout",
          "output_type": "stream",
          "text": [
            "[-11  -1   9  19  29]\n"
          ]
        }
      ],
      "source": [
        "Z = np.dot(W_flat, X) + b\n",
        "print(Z)"
      ]
    },
    {
      "cell_type": "code",
      "execution_count": null,
      "metadata": {
        "colab": {
          "base_uri": "https://localhost:8080/"
        },
        "id": "5Z1GR8-qGLMv",
        "outputId": "a9ed1017-4100-4406-d498-5eea8fe52c7c"
      },
      "outputs": [
        {
          "name": "stdout",
          "output_type": "stream",
          "text": [
            "[[11 21 31 41 51]\n",
            " [12 22 32 42 52]\n",
            " [13 23 33 43 53]]\n"
          ]
        }
      ],
      "source": [
        "print(X)"
      ]
    },
    {
      "cell_type": "code",
      "execution_count": null,
      "metadata": {
        "colab": {
          "base_uri": "https://localhost:8080/"
        },
        "id": "Zx1VXYWpF7XL",
        "outputId": "37aa208b-f4f2-4fb4-f7ec-c6f1e3180089"
      },
      "outputs": [
        {
          "name": "stdout",
          "output_type": "stream",
          "text": [
            "[[11 12 13]\n",
            " [21 22 23]\n",
            " [31 32 33]\n",
            " [41 42 43]\n",
            " [51 52 53]]\n"
          ]
        }
      ],
      "source": [
        "print(X.T)"
      ]
    },
    {
      "cell_type": "code",
      "execution_count": null,
      "metadata": {
        "colab": {
          "base_uri": "https://localhost:8080/"
        },
        "id": "HWR6Dnx3E0HC",
        "outputId": "cac4cc81-fe70-43b0-b20c-e9e90897dd6a"
      },
      "outputs": [
        {
          "name": "stdout",
          "output_type": "stream",
          "text": [
            "[-11  -1   9  19  29]\n"
          ]
        }
      ],
      "source": [
        "Z = np.dot(X.T, W[0]) + b\n",
        "print(Z)"
      ]
    },
    {
      "cell_type": "code",
      "execution_count": null,
      "metadata": {
        "id": "H_Y94LZo7I3t"
      },
      "outputs": [],
      "source": [
        "# Alternative format of X with each row being a new example.\n",
        "# Each column vector holds x values for x1 to x3.\n",
        "# Each row is a different sample with x1...x3\n",
        "X = np.array([\n",
        "    [11, 12, 13],\n",
        "    [21, 22, 23],\n",
        "    [31, 32, 33],\n",
        "    [41, 42, 43],\n",
        "    [51, 52, 53]\n",
        "])"
      ]
    },
    {
      "cell_type": "code",
      "execution_count": null,
      "metadata": {
        "colab": {
          "base_uri": "https://localhost:8080/",
          "height": 206
        },
        "id": "Ltj3SUGeCJKC",
        "outputId": "97044802-65bd-40ba-9404-a82993d01806"
      },
      "outputs": [
        {
          "data": {
            "text/html": [
              "\n",
              "  <div id=\"df-f203fe22-585d-4adf-934b-722d7d4b6d40\" class=\"colab-df-container\">\n",
              "    <div>\n",
              "<style scoped>\n",
              "    .dataframe tbody tr th:only-of-type {\n",
              "        vertical-align: middle;\n",
              "    }\n",
              "\n",
              "    .dataframe tbody tr th {\n",
              "        vertical-align: top;\n",
              "    }\n",
              "\n",
              "    .dataframe thead th {\n",
              "        text-align: right;\n",
              "    }\n",
              "</style>\n",
              "<table border=\"1\" class=\"dataframe\">\n",
              "  <thead>\n",
              "    <tr style=\"text-align: right;\">\n",
              "      <th></th>\n",
              "      <th>0</th>\n",
              "      <th>1</th>\n",
              "      <th>2</th>\n",
              "    </tr>\n",
              "  </thead>\n",
              "  <tbody>\n",
              "    <tr>\n",
              "      <th>0</th>\n",
              "      <td>11</td>\n",
              "      <td>12</td>\n",
              "      <td>13</td>\n",
              "    </tr>\n",
              "    <tr>\n",
              "      <th>1</th>\n",
              "      <td>21</td>\n",
              "      <td>22</td>\n",
              "      <td>23</td>\n",
              "    </tr>\n",
              "    <tr>\n",
              "      <th>2</th>\n",
              "      <td>31</td>\n",
              "      <td>32</td>\n",
              "      <td>33</td>\n",
              "    </tr>\n",
              "    <tr>\n",
              "      <th>3</th>\n",
              "      <td>41</td>\n",
              "      <td>42</td>\n",
              "      <td>43</td>\n",
              "    </tr>\n",
              "    <tr>\n",
              "      <th>4</th>\n",
              "      <td>51</td>\n",
              "      <td>52</td>\n",
              "      <td>53</td>\n",
              "    </tr>\n",
              "  </tbody>\n",
              "</table>\n",
              "</div>\n",
              "    <div class=\"colab-df-buttons\">\n",
              "\n",
              "  <div class=\"colab-df-container\">\n",
              "    <button class=\"colab-df-convert\" onclick=\"convertToInteractive('df-f203fe22-585d-4adf-934b-722d7d4b6d40')\"\n",
              "            title=\"Convert this dataframe to an interactive table.\"\n",
              "            style=\"display:none;\">\n",
              "\n",
              "  <svg xmlns=\"http://www.w3.org/2000/svg\" height=\"24px\" viewBox=\"0 -960 960 960\">\n",
              "    <path d=\"M120-120v-720h720v720H120Zm60-500h600v-160H180v160Zm220 220h160v-160H400v160Zm0 220h160v-160H400v160ZM180-400h160v-160H180v160Zm440 0h160v-160H620v160ZM180-180h160v-160H180v160Zm440 0h160v-160H620v160Z\"/>\n",
              "  </svg>\n",
              "    </button>\n",
              "\n",
              "  <style>\n",
              "    .colab-df-container {\n",
              "      display:flex;\n",
              "      gap: 12px;\n",
              "    }\n",
              "\n",
              "    .colab-df-convert {\n",
              "      background-color: #E8F0FE;\n",
              "      border: none;\n",
              "      border-radius: 50%;\n",
              "      cursor: pointer;\n",
              "      display: none;\n",
              "      fill: #1967D2;\n",
              "      height: 32px;\n",
              "      padding: 0 0 0 0;\n",
              "      width: 32px;\n",
              "    }\n",
              "\n",
              "    .colab-df-convert:hover {\n",
              "      background-color: #E2EBFA;\n",
              "      box-shadow: 0px 1px 2px rgba(60, 64, 67, 0.3), 0px 1px 3px 1px rgba(60, 64, 67, 0.15);\n",
              "      fill: #174EA6;\n",
              "    }\n",
              "\n",
              "    .colab-df-buttons div {\n",
              "      margin-bottom: 4px;\n",
              "    }\n",
              "\n",
              "    [theme=dark] .colab-df-convert {\n",
              "      background-color: #3B4455;\n",
              "      fill: #D2E3FC;\n",
              "    }\n",
              "\n",
              "    [theme=dark] .colab-df-convert:hover {\n",
              "      background-color: #434B5C;\n",
              "      box-shadow: 0px 1px 3px 1px rgba(0, 0, 0, 0.15);\n",
              "      filter: drop-shadow(0px 1px 2px rgba(0, 0, 0, 0.3));\n",
              "      fill: #FFFFFF;\n",
              "    }\n",
              "  </style>\n",
              "\n",
              "    <script>\n",
              "      const buttonEl =\n",
              "        document.querySelector('#df-f203fe22-585d-4adf-934b-722d7d4b6d40 button.colab-df-convert');\n",
              "      buttonEl.style.display =\n",
              "        google.colab.kernel.accessAllowed ? 'block' : 'none';\n",
              "\n",
              "      async function convertToInteractive(key) {\n",
              "        const element = document.querySelector('#df-f203fe22-585d-4adf-934b-722d7d4b6d40');\n",
              "        const dataTable =\n",
              "          await google.colab.kernel.invokeFunction('convertToInteractive',\n",
              "                                                    [key], {});\n",
              "        if (!dataTable) return;\n",
              "\n",
              "        const docLinkHtml = 'Like what you see? Visit the ' +\n",
              "          '<a target=\"_blank\" href=https://colab.research.google.com/notebooks/data_table.ipynb>data table notebook</a>'\n",
              "          + ' to learn more about interactive tables.';\n",
              "        element.innerHTML = '';\n",
              "        dataTable['output_type'] = 'display_data';\n",
              "        await google.colab.output.renderOutput(dataTable, element);\n",
              "        const docLink = document.createElement('div');\n",
              "        docLink.innerHTML = docLinkHtml;\n",
              "        element.appendChild(docLink);\n",
              "      }\n",
              "    </script>\n",
              "  </div>\n",
              "\n",
              "\n",
              "<div id=\"df-7da1f758-2330-43c3-94cd-6a2ca40fefce\">\n",
              "  <button class=\"colab-df-quickchart\" onclick=\"quickchart('df-7da1f758-2330-43c3-94cd-6a2ca40fefce')\"\n",
              "            title=\"Suggest charts.\"\n",
              "            style=\"display:none;\">\n",
              "\n",
              "<svg xmlns=\"http://www.w3.org/2000/svg\" height=\"24px\"viewBox=\"0 0 24 24\"\n",
              "     width=\"24px\">\n",
              "    <g>\n",
              "        <path d=\"M19 3H5c-1.1 0-2 .9-2 2v14c0 1.1.9 2 2 2h14c1.1 0 2-.9 2-2V5c0-1.1-.9-2-2-2zM9 17H7v-7h2v7zm4 0h-2V7h2v10zm4 0h-2v-4h2v4z\"/>\n",
              "    </g>\n",
              "</svg>\n",
              "  </button>\n",
              "\n",
              "<style>\n",
              "  .colab-df-quickchart {\n",
              "    background-color: #E8F0FE;\n",
              "    border: none;\n",
              "    border-radius: 50%;\n",
              "    cursor: pointer;\n",
              "    display: none;\n",
              "    fill: #1967D2;\n",
              "    height: 32px;\n",
              "    padding: 0 0 0 0;\n",
              "    width: 32px;\n",
              "  }\n",
              "\n",
              "  .colab-df-quickchart:hover {\n",
              "    background-color: #E2EBFA;\n",
              "    box-shadow: 0px 1px 2px rgba(60, 64, 67, 0.3), 0px 1px 3px 1px rgba(60, 64, 67, 0.15);\n",
              "    fill: #174EA6;\n",
              "  }\n",
              "\n",
              "  [theme=dark] .colab-df-quickchart {\n",
              "    background-color: #3B4455;\n",
              "    fill: #D2E3FC;\n",
              "  }\n",
              "\n",
              "  [theme=dark] .colab-df-quickchart:hover {\n",
              "    background-color: #434B5C;\n",
              "    box-shadow: 0px 1px 3px 1px rgba(0, 0, 0, 0.15);\n",
              "    filter: drop-shadow(0px 1px 2px rgba(0, 0, 0, 0.3));\n",
              "    fill: #FFFFFF;\n",
              "  }\n",
              "</style>\n",
              "\n",
              "  <script>\n",
              "    async function quickchart(key) {\n",
              "      const charts = await google.colab.kernel.invokeFunction(\n",
              "          'suggestCharts', [key], {});\n",
              "    }\n",
              "    (() => {\n",
              "      let quickchartButtonEl =\n",
              "        document.querySelector('#df-7da1f758-2330-43c3-94cd-6a2ca40fefce button');\n",
              "      quickchartButtonEl.style.display =\n",
              "        google.colab.kernel.accessAllowed ? 'block' : 'none';\n",
              "    })();\n",
              "  </script>\n",
              "</div>\n",
              "    </div>\n",
              "  </div>\n"
            ],
            "text/plain": [
              "    0   1   2\n",
              "0  11  12  13\n",
              "1  21  22  23\n",
              "2  31  32  33\n",
              "3  41  42  43\n",
              "4  51  52  53"
            ]
          },
          "execution_count": 22,
          "metadata": {},
          "output_type": "execute_result"
        }
      ],
      "source": [
        "df_X = pd.DataFrame(X)\n",
        "df_X.head()"
      ]
    },
    {
      "cell_type": "code",
      "execution_count": null,
      "metadata": {
        "colab": {
          "base_uri": "https://localhost:8080/"
        },
        "id": "4nN0qpzmCJ6p",
        "outputId": "2993693b-275d-4cba-b8c1-b295dd913061"
      },
      "outputs": [
        {
          "data": {
            "text/plain": [
              "(5, 3)"
            ]
          },
          "execution_count": 23,
          "metadata": {},
          "output_type": "execute_result"
        }
      ],
      "source": [
        "df_X.shape"
      ]
    },
    {
      "cell_type": "code",
      "execution_count": null,
      "metadata": {
        "colab": {
          "base_uri": "https://localhost:8080/"
        },
        "id": "R-yrFM8fLNTZ",
        "outputId": "7a15f0da-34d8-4f70-e570-0f71eb2f965e"
      },
      "outputs": [
        {
          "name": "stdout",
          "output_type": "stream",
          "text": [
            "[[11 21 31 41 51]\n",
            " [12 22 32 42 52]\n",
            " [13 23 33 43 53]]\n"
          ]
        }
      ],
      "source": [
        "print(X.T)"
      ]
    },
    {
      "cell_type": "code",
      "execution_count": null,
      "metadata": {
        "colab": {
          "base_uri": "https://localhost:8080/"
        },
        "id": "0ON8PkqYewwj",
        "outputId": "9c005c3e-100b-4209-f790-dc6c879a6ef9"
      },
      "outputs": [
        {
          "name": "stdout",
          "output_type": "stream",
          "text": [
            "[[11 12 13]\n",
            " [21 22 23]\n",
            " [31 32 33]\n",
            " [41 42 43]\n",
            " [51 52 53]]\n"
          ]
        }
      ],
      "source": [
        "print(X)"
      ]
    },
    {
      "cell_type": "code",
      "execution_count": null,
      "metadata": {
        "colab": {
          "base_uri": "https://localhost:8080/"
        },
        "id": "Secb0sEcLOim",
        "outputId": "86405724-d1fd-4f33-c35d-92f03b9253da"
      },
      "outputs": [
        {
          "name": "stdout",
          "output_type": "stream",
          "text": [
            "[[-1  1  1]]\n"
          ]
        }
      ],
      "source": [
        "print(W)"
      ]
    },
    {
      "cell_type": "code",
      "execution_count": null,
      "metadata": {
        "colab": {
          "base_uri": "https://localhost:8080/"
        },
        "id": "waQ8cmZqe2Ry",
        "outputId": "9d2add6a-9a24-4662-a06c-a6ebe703edfe"
      },
      "outputs": [
        {
          "name": "stdout",
          "output_type": "stream",
          "text": [
            "[-1  1  1]\n"
          ]
        }
      ],
      "source": [
        "print(W_flat)"
      ]
    },
    {
      "cell_type": "code",
      "execution_count": null,
      "metadata": {
        "colab": {
          "base_uri": "https://localhost:8080/"
        },
        "id": "keup4erG7rux",
        "outputId": "8f012b16-0d97-4b53-ce30-fbeea0b8ade0"
      },
      "outputs": [
        {
          "name": "stdout",
          "output_type": "stream",
          "text": [
            "[[-11  -1   9  19  29]]\n"
          ]
        }
      ],
      "source": [
        "Z = np.dot(W, X.T) + b\n",
        "print(Z)"
      ]
    },
    {
      "cell_type": "code",
      "execution_count": null,
      "metadata": {
        "colab": {
          "base_uri": "https://localhost:8080/"
        },
        "id": "19Z5jnmpeMJD",
        "outputId": "3cd48605-f4e8-437d-bc22-0508a615f0f9"
      },
      "outputs": [
        {
          "name": "stdout",
          "output_type": "stream",
          "text": [
            "[-11  -1   9  19  29]\n"
          ]
        }
      ],
      "source": [
        "Z = np.dot(W_flat, X.T) + b\n",
        "print(Z)"
      ]
    },
    {
      "cell_type": "code",
      "execution_count": null,
      "metadata": {
        "colab": {
          "base_uri": "https://localhost:8080/"
        },
        "id": "opjxdQh9KFsJ",
        "outputId": "54d8aaf7-7995-4ef0-bc03-c41b01a9970d"
      },
      "outputs": [
        {
          "name": "stdout",
          "output_type": "stream",
          "text": [
            "[-11  -1   9  19  29]\n"
          ]
        }
      ],
      "source": [
        "Z = np.dot(X, W[0]) + b\n",
        "print(Z)"
      ]
    },
    {
      "cell_type": "code",
      "execution_count": null,
      "metadata": {
        "colab": {
          "base_uri": "https://localhost:8080/"
        },
        "id": "6LXCh10BeB1X",
        "outputId": "5dec0740-14e8-464b-ec84-b4ebc89f5d8a"
      },
      "outputs": [
        {
          "name": "stdout",
          "output_type": "stream",
          "text": [
            "[-11  -1   9  19  29]\n"
          ]
        }
      ],
      "source": [
        "Z = np.dot(X, W_flat) + b\n",
        "print(Z)"
      ]
    },
    {
      "cell_type": "code",
      "execution_count": null,
      "metadata": {
        "colab": {
          "base_uri": "https://localhost:8080/"
        },
        "id": "c94XN3_AhTMv",
        "outputId": "961b55b6-4eab-4bd4-e9a6-3544d54fa772"
      },
      "outputs": [
        {
          "name": "stdout",
          "output_type": "stream",
          "text": [
            "[[-11]\n",
            " [ -1]\n",
            " [  9]\n",
            " [ 19]\n",
            " [ 29]]\n"
          ]
        }
      ],
      "source": [
        "Z = np.dot(X, W.T) + b\n",
        "print(Z)"
      ]
    },
    {
      "cell_type": "markdown",
      "metadata": {
        "id": "coZcJEqooT6N"
      },
      "source": [
        "Check that the matrix meets the rules of matrix multiplication.\n",
        "Multiplying an n1_row, m1_column matrix by n2_row, m2_column matrix should yield a matrix with (n1_row, m2_column) rows and columns."
      ]
    },
    {
      "cell_type": "code",
      "execution_count": null,
      "metadata": {
        "id": "gD0fcg10oMJy"
      },
      "outputs": [],
      "source": [
        "# Check that Z's row count equals X' (first matrix) row count.\n",
        "assert(Z.shape[0] == X.shape[0])\n",
        "# Check that Z's column count equals transposed W's (second matrix) row count.\n",
        "assert Z.shape[1] == W.T.shape[1], \"Z column count mismatch with W.transpose column count.\""
      ]
    },
    {
      "cell_type": "markdown",
      "metadata": {
        "id": "Y5BfCX1XJqNe"
      },
      "source": [
        "### Find the Result of the Sigmoid Activation Function and Compare to Y"
      ]
    },
    {
      "cell_type": "code",
      "execution_count": null,
      "metadata": {
        "colab": {
          "base_uri": "https://localhost:8080/"
        },
        "id": "pCLee8pM0OcF",
        "outputId": "3905b546-265b-4b82-cf07-a7be4604ae12"
      },
      "outputs": [
        {
          "data": {
            "text/plain": [
              "array([[-24, -24, -24],\n",
              "       [-23, -23, -23]])"
            ]
          },
          "execution_count": 34,
          "metadata": {},
          "output_type": "execute_result"
        }
      ],
      "source": [
        "# Broadcasting demo. Here, b = -25\n",
        "np.array([[1, 1, 1,], [2, 2, 2]]) + b"
      ]
    },
    {
      "cell_type": "code",
      "execution_count": null,
      "metadata": {
        "colab": {
          "base_uri": "https://localhost:8080/"
        },
        "id": "veZsBOmdT6bU",
        "outputId": "a6980ed7-2900-4ef1-e4b8-f048b4f8dbaf"
      },
      "outputs": [
        {
          "name": "stdout",
          "output_type": "stream",
          "text": [
            "[[1.67014218e-05]\n",
            " [2.68941421e-01]\n",
            " [9.99876605e-01]\n",
            " [9.99999994e-01]\n",
            " [1.00000000e+00]]\n"
          ]
        }
      ],
      "source": [
        "# Alternative computation of A using broadcasting.\n",
        "A = np.exp(-Z)\n",
        "A = A+1\n",
        "A = 1/A\n",
        "print(A)"
      ]
    },
    {
      "cell_type": "code",
      "execution_count": null,
      "metadata": {
        "colab": {
          "base_uri": "https://localhost:8080/"
        },
        "id": "Y7NDgXpjpKXR",
        "outputId": "484e8271-7d1d-488a-95ba-58fa0b731b03"
      },
      "outputs": [
        {
          "name": "stdout",
          "output_type": "stream",
          "text": [
            "[1.670142184809518e-05, 0.2689414213699951, 0.9998766054240137, 0.9999999943972036, 0.9999999999997455]\n"
          ]
        }
      ],
      "source": [
        "# More precise calculation of A by applying a function element-wise.\n",
        "import math\n",
        "def sigmoid(Z):\n",
        "  sig = lambda z_item: 1 / (1 + math.exp(-z_item))\n",
        "  result = []\n",
        "  for item in Z:\n",
        "    result.append(sig(item))\n",
        "  return result\n",
        "\n",
        "A = sigmoid(Z)\n",
        "print(A)"
      ]
    },
    {
      "cell_type": "code",
      "execution_count": null,
      "metadata": {
        "colab": {
          "base_uri": "https://localhost:8080/"
        },
        "id": "xwzFlXcKEN_Z",
        "outputId": "04fc4670-a8d0-4114-b62f-03ee1119f88e"
      },
      "outputs": [
        {
          "name": "stdout",
          "output_type": "stream",
          "text": [
            "[ 1.67014218e-05  2.68941421e-01 -1.23394576e-04 -5.60279645e-09\n",
            " -2.54463117e-13]\n"
          ]
        }
      ],
      "source": [
        "# Find the difference between true labels and predicted labels.\n",
        "Y_true = np.array([0, 0, 1, 1, 1], dtype=float)\n",
        "dz = A - Y_true\n",
        "print(dz)"
      ]
    },
    {
      "cell_type": "code",
      "execution_count": null,
      "metadata": {
        "colab": {
          "base_uri": "https://localhost:8080/"
        },
        "id": "j1CBcvPjpGyR",
        "outputId": "cbda1575-4df3-4d0e-ebc5-06a33b66528c"
      },
      "outputs": [
        {
          "name": "stdout",
          "output_type": "stream",
          "text": [
            "[ 0.     0.269 -0.    -0.    -0.   ]\n"
          ]
        }
      ],
      "source": [
        "np.set_printoptions(precision=3, suppress=True)\n",
        "print(dz)"
      ]
    },
    {
      "cell_type": "code",
      "execution_count": null,
      "metadata": {
        "id": "26dq9SQhpUWb"
      },
      "outputs": [],
      "source": [
        "np.set_printoptions(precision=5, suppress=False)"
      ]
    },
    {
      "cell_type": "markdown",
      "metadata": {
        "id": "1rQD8W3XuuJx"
      },
      "source": [
        "# Neural Network Demo\n"
      ]
    },
    {
      "cell_type": "code",
      "execution_count": null,
      "metadata": {
        "id": "bSRO-Swju6cS"
      },
      "outputs": [],
      "source": [
        "import pandas as pd\n",
        "import tensorflow as tf\n",
        "from tensorflow.keras import Sequential\n",
        "from tensorflow.keras.layers import Dense"
      ]
    },
    {
      "cell_type": "code",
      "execution_count": null,
      "metadata": {
        "colab": {
          "base_uri": "https://localhost:8080/",
          "height": 236
        },
        "id": "iv7xwCHUW70N",
        "outputId": "96f24bd7-7259-473c-fce0-ef8327afe44a"
      },
      "outputs": [
        {
          "data": {
            "text/html": [
              "\n",
              "\n",
              "  <div id=\"df-f7f4a28b-d326-4a45-9197-72e1b574bdfd\">\n",
              "    <div class=\"colab-df-container\">\n",
              "      <div>\n",
              "<style scoped>\n",
              "    .dataframe tbody tr th:only-of-type {\n",
              "        vertical-align: middle;\n",
              "    }\n",
              "\n",
              "    .dataframe tbody tr th {\n",
              "        vertical-align: top;\n",
              "    }\n",
              "\n",
              "    .dataframe thead th {\n",
              "        text-align: right;\n",
              "    }\n",
              "</style>\n",
              "<table border=\"1\" class=\"dataframe\">\n",
              "  <thead>\n",
              "    <tr style=\"text-align: right;\">\n",
              "      <th></th>\n",
              "      <th>6</th>\n",
              "      <th>0</th>\n",
              "      <th>0.1</th>\n",
              "      <th>0.2</th>\n",
              "      <th>0.3</th>\n",
              "      <th>0.4</th>\n",
              "      <th>0.5</th>\n",
              "      <th>0.6</th>\n",
              "      <th>0.7</th>\n",
              "      <th>0.8</th>\n",
              "      <th>...</th>\n",
              "      <th>0.581</th>\n",
              "      <th>0.582</th>\n",
              "      <th>0.583</th>\n",
              "      <th>0.584</th>\n",
              "      <th>0.585</th>\n",
              "      <th>0.586</th>\n",
              "      <th>0.587</th>\n",
              "      <th>0.588</th>\n",
              "      <th>0.589</th>\n",
              "      <th>0.590</th>\n",
              "    </tr>\n",
              "  </thead>\n",
              "  <tbody>\n",
              "    <tr>\n",
              "      <th>0</th>\n",
              "      <td>5</td>\n",
              "      <td>0</td>\n",
              "      <td>0</td>\n",
              "      <td>0</td>\n",
              "      <td>0</td>\n",
              "      <td>0</td>\n",
              "      <td>0</td>\n",
              "      <td>0</td>\n",
              "      <td>0</td>\n",
              "      <td>0</td>\n",
              "      <td>...</td>\n",
              "      <td>0</td>\n",
              "      <td>0</td>\n",
              "      <td>0</td>\n",
              "      <td>0</td>\n",
              "      <td>0</td>\n",
              "      <td>0</td>\n",
              "      <td>0</td>\n",
              "      <td>0</td>\n",
              "      <td>0</td>\n",
              "      <td>0</td>\n",
              "    </tr>\n",
              "    <tr>\n",
              "      <th>1</th>\n",
              "      <td>7</td>\n",
              "      <td>0</td>\n",
              "      <td>0</td>\n",
              "      <td>0</td>\n",
              "      <td>0</td>\n",
              "      <td>0</td>\n",
              "      <td>0</td>\n",
              "      <td>0</td>\n",
              "      <td>0</td>\n",
              "      <td>0</td>\n",
              "      <td>...</td>\n",
              "      <td>0</td>\n",
              "      <td>0</td>\n",
              "      <td>0</td>\n",
              "      <td>0</td>\n",
              "      <td>0</td>\n",
              "      <td>0</td>\n",
              "      <td>0</td>\n",
              "      <td>0</td>\n",
              "      <td>0</td>\n",
              "      <td>0</td>\n",
              "    </tr>\n",
              "    <tr>\n",
              "      <th>2</th>\n",
              "      <td>9</td>\n",
              "      <td>0</td>\n",
              "      <td>0</td>\n",
              "      <td>0</td>\n",
              "      <td>0</td>\n",
              "      <td>0</td>\n",
              "      <td>0</td>\n",
              "      <td>0</td>\n",
              "      <td>0</td>\n",
              "      <td>0</td>\n",
              "      <td>...</td>\n",
              "      <td>0</td>\n",
              "      <td>0</td>\n",
              "      <td>0</td>\n",
              "      <td>0</td>\n",
              "      <td>0</td>\n",
              "      <td>0</td>\n",
              "      <td>0</td>\n",
              "      <td>0</td>\n",
              "      <td>0</td>\n",
              "      <td>0</td>\n",
              "    </tr>\n",
              "    <tr>\n",
              "      <th>3</th>\n",
              "      <td>5</td>\n",
              "      <td>0</td>\n",
              "      <td>0</td>\n",
              "      <td>0</td>\n",
              "      <td>0</td>\n",
              "      <td>0</td>\n",
              "      <td>0</td>\n",
              "      <td>0</td>\n",
              "      <td>0</td>\n",
              "      <td>0</td>\n",
              "      <td>...</td>\n",
              "      <td>0</td>\n",
              "      <td>0</td>\n",
              "      <td>0</td>\n",
              "      <td>0</td>\n",
              "      <td>0</td>\n",
              "      <td>0</td>\n",
              "      <td>0</td>\n",
              "      <td>0</td>\n",
              "      <td>0</td>\n",
              "      <td>0</td>\n",
              "    </tr>\n",
              "    <tr>\n",
              "      <th>4</th>\n",
              "      <td>2</td>\n",
              "      <td>0</td>\n",
              "      <td>0</td>\n",
              "      <td>0</td>\n",
              "      <td>0</td>\n",
              "      <td>0</td>\n",
              "      <td>0</td>\n",
              "      <td>0</td>\n",
              "      <td>0</td>\n",
              "      <td>0</td>\n",
              "      <td>...</td>\n",
              "      <td>0</td>\n",
              "      <td>0</td>\n",
              "      <td>0</td>\n",
              "      <td>0</td>\n",
              "      <td>0</td>\n",
              "      <td>0</td>\n",
              "      <td>0</td>\n",
              "      <td>0</td>\n",
              "      <td>0</td>\n",
              "      <td>0</td>\n",
              "    </tr>\n",
              "  </tbody>\n",
              "</table>\n",
              "<p>5 rows × 785 columns</p>\n",
              "</div>\n",
              "      <button class=\"colab-df-convert\" onclick=\"convertToInteractive('df-f7f4a28b-d326-4a45-9197-72e1b574bdfd')\"\n",
              "              title=\"Convert this dataframe to an interactive table.\"\n",
              "              style=\"display:none;\">\n",
              "\n",
              "  <svg xmlns=\"http://www.w3.org/2000/svg\" height=\"24px\"viewBox=\"0 0 24 24\"\n",
              "       width=\"24px\">\n",
              "    <path d=\"M0 0h24v24H0V0z\" fill=\"none\"/>\n",
              "    <path d=\"M18.56 5.44l.94 2.06.94-2.06 2.06-.94-2.06-.94-.94-2.06-.94 2.06-2.06.94zm-11 1L8.5 8.5l.94-2.06 2.06-.94-2.06-.94L8.5 2.5l-.94 2.06-2.06.94zm10 10l.94 2.06.94-2.06 2.06-.94-2.06-.94-.94-2.06-.94 2.06-2.06.94z\"/><path d=\"M17.41 7.96l-1.37-1.37c-.4-.4-.92-.59-1.43-.59-.52 0-1.04.2-1.43.59L10.3 9.45l-7.72 7.72c-.78.78-.78 2.05 0 2.83L4 21.41c.39.39.9.59 1.41.59.51 0 1.02-.2 1.41-.59l7.78-7.78 2.81-2.81c.8-.78.8-2.07 0-2.86zM5.41 20L4 18.59l7.72-7.72 1.47 1.35L5.41 20z\"/>\n",
              "  </svg>\n",
              "      </button>\n",
              "\n",
              "\n",
              "\n",
              "    <div id=\"df-ab5b9663-217f-4804-8fb1-43dbd5a8f809\">\n",
              "      <button class=\"colab-df-quickchart\" onclick=\"quickchart('df-ab5b9663-217f-4804-8fb1-43dbd5a8f809')\"\n",
              "              title=\"Suggest charts.\"\n",
              "              style=\"display:none;\">\n",
              "\n",
              "<svg xmlns=\"http://www.w3.org/2000/svg\" height=\"24px\"viewBox=\"0 0 24 24\"\n",
              "     width=\"24px\">\n",
              "    <g>\n",
              "        <path d=\"M19 3H5c-1.1 0-2 .9-2 2v14c0 1.1.9 2 2 2h14c1.1 0 2-.9 2-2V5c0-1.1-.9-2-2-2zM9 17H7v-7h2v7zm4 0h-2V7h2v10zm4 0h-2v-4h2v4z\"/>\n",
              "    </g>\n",
              "</svg>\n",
              "      </button>\n",
              "    </div>\n",
              "\n",
              "<style>\n",
              "  .colab-df-quickchart {\n",
              "    background-color: #E8F0FE;\n",
              "    border: none;\n",
              "    border-radius: 50%;\n",
              "    cursor: pointer;\n",
              "    display: none;\n",
              "    fill: #1967D2;\n",
              "    height: 32px;\n",
              "    padding: 0 0 0 0;\n",
              "    width: 32px;\n",
              "  }\n",
              "\n",
              "  .colab-df-quickchart:hover {\n",
              "    background-color: #E2EBFA;\n",
              "    box-shadow: 0px 1px 2px rgba(60, 64, 67, 0.3), 0px 1px 3px 1px rgba(60, 64, 67, 0.15);\n",
              "    fill: #174EA6;\n",
              "  }\n",
              "\n",
              "  [theme=dark] .colab-df-quickchart {\n",
              "    background-color: #3B4455;\n",
              "    fill: #D2E3FC;\n",
              "  }\n",
              "\n",
              "  [theme=dark] .colab-df-quickchart:hover {\n",
              "    background-color: #434B5C;\n",
              "    box-shadow: 0px 1px 3px 1px rgba(0, 0, 0, 0.15);\n",
              "    filter: drop-shadow(0px 1px 2px rgba(0, 0, 0, 0.3));\n",
              "    fill: #FFFFFF;\n",
              "  }\n",
              "</style>\n",
              "\n",
              "    <script>\n",
              "      async function quickchart(key) {\n",
              "        const containerElement = document.querySelector('#' + key);\n",
              "        const charts = await google.colab.kernel.invokeFunction(\n",
              "            'suggestCharts', [key], {});\n",
              "      }\n",
              "    </script>\n",
              "\n",
              "      <script>\n",
              "\n",
              "function displayQuickchartButton(domScope) {\n",
              "  let quickchartButtonEl =\n",
              "    domScope.querySelector('#df-ab5b9663-217f-4804-8fb1-43dbd5a8f809 button.colab-df-quickchart');\n",
              "  quickchartButtonEl.style.display =\n",
              "    google.colab.kernel.accessAllowed ? 'block' : 'none';\n",
              "}\n",
              "\n",
              "        displayQuickchartButton(document);\n",
              "      </script>\n",
              "      <style>\n",
              "    .colab-df-container {\n",
              "      display:flex;\n",
              "      flex-wrap:wrap;\n",
              "      gap: 12px;\n",
              "    }\n",
              "\n",
              "    .colab-df-convert {\n",
              "      background-color: #E8F0FE;\n",
              "      border: none;\n",
              "      border-radius: 50%;\n",
              "      cursor: pointer;\n",
              "      display: none;\n",
              "      fill: #1967D2;\n",
              "      height: 32px;\n",
              "      padding: 0 0 0 0;\n",
              "      width: 32px;\n",
              "    }\n",
              "\n",
              "    .colab-df-convert:hover {\n",
              "      background-color: #E2EBFA;\n",
              "      box-shadow: 0px 1px 2px rgba(60, 64, 67, 0.3), 0px 1px 3px 1px rgba(60, 64, 67, 0.15);\n",
              "      fill: #174EA6;\n",
              "    }\n",
              "\n",
              "    [theme=dark] .colab-df-convert {\n",
              "      background-color: #3B4455;\n",
              "      fill: #D2E3FC;\n",
              "    }\n",
              "\n",
              "    [theme=dark] .colab-df-convert:hover {\n",
              "      background-color: #434B5C;\n",
              "      box-shadow: 0px 1px 3px 1px rgba(0, 0, 0, 0.15);\n",
              "      filter: drop-shadow(0px 1px 2px rgba(0, 0, 0, 0.3));\n",
              "      fill: #FFFFFF;\n",
              "    }\n",
              "  </style>\n",
              "\n",
              "      <script>\n",
              "        const buttonEl =\n",
              "          document.querySelector('#df-f7f4a28b-d326-4a45-9197-72e1b574bdfd button.colab-df-convert');\n",
              "        buttonEl.style.display =\n",
              "          google.colab.kernel.accessAllowed ? 'block' : 'none';\n",
              "\n",
              "        async function convertToInteractive(key) {\n",
              "          const element = document.querySelector('#df-f7f4a28b-d326-4a45-9197-72e1b574bdfd');\n",
              "          const dataTable =\n",
              "            await google.colab.kernel.invokeFunction('convertToInteractive',\n",
              "                                                     [key], {});\n",
              "          if (!dataTable) return;\n",
              "\n",
              "          const docLinkHtml = 'Like what you see? Visit the ' +\n",
              "            '<a target=\"_blank\" href=https://colab.research.google.com/notebooks/data_table.ipynb>data table notebook</a>'\n",
              "            + ' to learn more about interactive tables.';\n",
              "          element.innerHTML = '';\n",
              "          dataTable['output_type'] = 'display_data';\n",
              "          await google.colab.output.renderOutput(dataTable, element);\n",
              "          const docLink = document.createElement('div');\n",
              "          docLink.innerHTML = docLinkHtml;\n",
              "          element.appendChild(docLink);\n",
              "        }\n",
              "      </script>\n",
              "    </div>\n",
              "  </div>\n"
            ],
            "text/plain": [
              "   6  0  0.1  0.2  0.3  0.4  0.5  0.6  0.7  0.8  ...  0.581  0.582  0.583  \\\n",
              "0  5  0    0    0    0    0    0    0    0    0  ...      0      0      0   \n",
              "1  7  0    0    0    0    0    0    0    0    0  ...      0      0      0   \n",
              "2  9  0    0    0    0    0    0    0    0    0  ...      0      0      0   \n",
              "3  5  0    0    0    0    0    0    0    0    0  ...      0      0      0   \n",
              "4  2  0    0    0    0    0    0    0    0    0  ...      0      0      0   \n",
              "\n",
              "   0.584  0.585  0.586  0.587  0.588  0.589  0.590  \n",
              "0      0      0      0      0      0      0      0  \n",
              "1      0      0      0      0      0      0      0  \n",
              "2      0      0      0      0      0      0      0  \n",
              "3      0      0      0      0      0      0      0  \n",
              "4      0      0      0      0      0      0      0  \n",
              "\n",
              "[5 rows x 785 columns]"
            ]
          },
          "execution_count": 41,
          "metadata": {},
          "output_type": "execute_result"
        }
      ],
      "source": [
        "df_mnist_train_small = pd.DataFrame(data=pd.read_csv(\"../content/sample_data/mnist_train_small.csv\"))\n",
        "df_mnist_train_small.head()"
      ]
    },
    {
      "cell_type": "code",
      "execution_count": null,
      "metadata": {
        "colab": {
          "base_uri": "https://localhost:8080/"
        },
        "id": "vCzb9_PFn4lL",
        "outputId": "01ed1724-4a0e-47b9-fdbd-895b748e77cf"
      },
      "outputs": [
        {
          "data": {
            "text/plain": [
              "(19999, 785)"
            ]
          },
          "execution_count": 42,
          "metadata": {},
          "output_type": "execute_result"
        }
      ],
      "source": [
        "df_mnist_train_small.shape"
      ]
    },
    {
      "cell_type": "markdown",
      "metadata": {
        "id": "ds5WmZ6Ps-Qc"
      },
      "source": [
        "## Neural Network: SoftMax Activation vs. ReLU Activation\n",
        "Compare the accuracy of a neural network with ReLU activations for the hidden layer vs. one with Sigmoid activations for the hidden layer."
      ]
    },
    {
      "cell_type": "markdown",
      "metadata": {
        "id": "F91pUi-exlQ7"
      },
      "source": [
        "**About the MNIST Handwritten Digit Data**\n",
        "\n",
        "Every line of these files consists of an image, i.e. numbers between 0 and 9. The first number of each line is the label, i.e. the digit which is depicted in the image. The following 784 numbers are the pixels of the 28 x 28 image."
      ]
    },
    {
      "cell_type": "code",
      "execution_count": null,
      "metadata": {
        "colab": {
          "base_uri": "https://localhost:8080/",
          "height": 236
        },
        "id": "6lbnAk3FyoDS",
        "outputId": "11f54a34-5b79-4eb3-e515-325da4021f98"
      },
      "outputs": [
        {
          "data": {
            "text/html": [
              "\n",
              "\n",
              "  <div id=\"df-62e79c46-71ce-434f-9137-fe7f878cdd25\">\n",
              "    <div class=\"colab-df-container\">\n",
              "      <div>\n",
              "<style scoped>\n",
              "    .dataframe tbody tr th:only-of-type {\n",
              "        vertical-align: middle;\n",
              "    }\n",
              "\n",
              "    .dataframe tbody tr th {\n",
              "        vertical-align: top;\n",
              "    }\n",
              "\n",
              "    .dataframe thead th {\n",
              "        text-align: right;\n",
              "    }\n",
              "</style>\n",
              "<table border=\"1\" class=\"dataframe\">\n",
              "  <thead>\n",
              "    <tr style=\"text-align: right;\">\n",
              "      <th></th>\n",
              "      <th>6</th>\n",
              "      <th>0</th>\n",
              "      <th>0.1</th>\n",
              "      <th>0.2</th>\n",
              "      <th>0.3</th>\n",
              "      <th>0.4</th>\n",
              "      <th>0.5</th>\n",
              "      <th>0.6</th>\n",
              "      <th>0.7</th>\n",
              "      <th>0.8</th>\n",
              "      <th>...</th>\n",
              "      <th>0.581</th>\n",
              "      <th>0.582</th>\n",
              "      <th>0.583</th>\n",
              "      <th>0.584</th>\n",
              "      <th>0.585</th>\n",
              "      <th>0.586</th>\n",
              "      <th>0.587</th>\n",
              "      <th>0.588</th>\n",
              "      <th>0.589</th>\n",
              "      <th>0.590</th>\n",
              "    </tr>\n",
              "  </thead>\n",
              "  <tbody>\n",
              "    <tr>\n",
              "      <th>0</th>\n",
              "      <td>5</td>\n",
              "      <td>0</td>\n",
              "      <td>0</td>\n",
              "      <td>0</td>\n",
              "      <td>0</td>\n",
              "      <td>0</td>\n",
              "      <td>0</td>\n",
              "      <td>0</td>\n",
              "      <td>0</td>\n",
              "      <td>0</td>\n",
              "      <td>...</td>\n",
              "      <td>0</td>\n",
              "      <td>0</td>\n",
              "      <td>0</td>\n",
              "      <td>0</td>\n",
              "      <td>0</td>\n",
              "      <td>0</td>\n",
              "      <td>0</td>\n",
              "      <td>0</td>\n",
              "      <td>0</td>\n",
              "      <td>0</td>\n",
              "    </tr>\n",
              "    <tr>\n",
              "      <th>1</th>\n",
              "      <td>7</td>\n",
              "      <td>0</td>\n",
              "      <td>0</td>\n",
              "      <td>0</td>\n",
              "      <td>0</td>\n",
              "      <td>0</td>\n",
              "      <td>0</td>\n",
              "      <td>0</td>\n",
              "      <td>0</td>\n",
              "      <td>0</td>\n",
              "      <td>...</td>\n",
              "      <td>0</td>\n",
              "      <td>0</td>\n",
              "      <td>0</td>\n",
              "      <td>0</td>\n",
              "      <td>0</td>\n",
              "      <td>0</td>\n",
              "      <td>0</td>\n",
              "      <td>0</td>\n",
              "      <td>0</td>\n",
              "      <td>0</td>\n",
              "    </tr>\n",
              "    <tr>\n",
              "      <th>2</th>\n",
              "      <td>9</td>\n",
              "      <td>0</td>\n",
              "      <td>0</td>\n",
              "      <td>0</td>\n",
              "      <td>0</td>\n",
              "      <td>0</td>\n",
              "      <td>0</td>\n",
              "      <td>0</td>\n",
              "      <td>0</td>\n",
              "      <td>0</td>\n",
              "      <td>...</td>\n",
              "      <td>0</td>\n",
              "      <td>0</td>\n",
              "      <td>0</td>\n",
              "      <td>0</td>\n",
              "      <td>0</td>\n",
              "      <td>0</td>\n",
              "      <td>0</td>\n",
              "      <td>0</td>\n",
              "      <td>0</td>\n",
              "      <td>0</td>\n",
              "    </tr>\n",
              "    <tr>\n",
              "      <th>3</th>\n",
              "      <td>5</td>\n",
              "      <td>0</td>\n",
              "      <td>0</td>\n",
              "      <td>0</td>\n",
              "      <td>0</td>\n",
              "      <td>0</td>\n",
              "      <td>0</td>\n",
              "      <td>0</td>\n",
              "      <td>0</td>\n",
              "      <td>0</td>\n",
              "      <td>...</td>\n",
              "      <td>0</td>\n",
              "      <td>0</td>\n",
              "      <td>0</td>\n",
              "      <td>0</td>\n",
              "      <td>0</td>\n",
              "      <td>0</td>\n",
              "      <td>0</td>\n",
              "      <td>0</td>\n",
              "      <td>0</td>\n",
              "      <td>0</td>\n",
              "    </tr>\n",
              "    <tr>\n",
              "      <th>4</th>\n",
              "      <td>2</td>\n",
              "      <td>0</td>\n",
              "      <td>0</td>\n",
              "      <td>0</td>\n",
              "      <td>0</td>\n",
              "      <td>0</td>\n",
              "      <td>0</td>\n",
              "      <td>0</td>\n",
              "      <td>0</td>\n",
              "      <td>0</td>\n",
              "      <td>...</td>\n",
              "      <td>0</td>\n",
              "      <td>0</td>\n",
              "      <td>0</td>\n",
              "      <td>0</td>\n",
              "      <td>0</td>\n",
              "      <td>0</td>\n",
              "      <td>0</td>\n",
              "      <td>0</td>\n",
              "      <td>0</td>\n",
              "      <td>0</td>\n",
              "    </tr>\n",
              "  </tbody>\n",
              "</table>\n",
              "<p>5 rows × 785 columns</p>\n",
              "</div>\n",
              "      <button class=\"colab-df-convert\" onclick=\"convertToInteractive('df-62e79c46-71ce-434f-9137-fe7f878cdd25')\"\n",
              "              title=\"Convert this dataframe to an interactive table.\"\n",
              "              style=\"display:none;\">\n",
              "\n",
              "  <svg xmlns=\"http://www.w3.org/2000/svg\" height=\"24px\"viewBox=\"0 0 24 24\"\n",
              "       width=\"24px\">\n",
              "    <path d=\"M0 0h24v24H0V0z\" fill=\"none\"/>\n",
              "    <path d=\"M18.56 5.44l.94 2.06.94-2.06 2.06-.94-2.06-.94-.94-2.06-.94 2.06-2.06.94zm-11 1L8.5 8.5l.94-2.06 2.06-.94-2.06-.94L8.5 2.5l-.94 2.06-2.06.94zm10 10l.94 2.06.94-2.06 2.06-.94-2.06-.94-.94-2.06-.94 2.06-2.06.94z\"/><path d=\"M17.41 7.96l-1.37-1.37c-.4-.4-.92-.59-1.43-.59-.52 0-1.04.2-1.43.59L10.3 9.45l-7.72 7.72c-.78.78-.78 2.05 0 2.83L4 21.41c.39.39.9.59 1.41.59.51 0 1.02-.2 1.41-.59l7.78-7.78 2.81-2.81c.8-.78.8-2.07 0-2.86zM5.41 20L4 18.59l7.72-7.72 1.47 1.35L5.41 20z\"/>\n",
              "  </svg>\n",
              "      </button>\n",
              "\n",
              "\n",
              "\n",
              "    <div id=\"df-cad5c288-a5b6-42f8-ae2c-83e47e9ce537\">\n",
              "      <button class=\"colab-df-quickchart\" onclick=\"quickchart('df-cad5c288-a5b6-42f8-ae2c-83e47e9ce537')\"\n",
              "              title=\"Suggest charts.\"\n",
              "              style=\"display:none;\">\n",
              "\n",
              "<svg xmlns=\"http://www.w3.org/2000/svg\" height=\"24px\"viewBox=\"0 0 24 24\"\n",
              "     width=\"24px\">\n",
              "    <g>\n",
              "        <path d=\"M19 3H5c-1.1 0-2 .9-2 2v14c0 1.1.9 2 2 2h14c1.1 0 2-.9 2-2V5c0-1.1-.9-2-2-2zM9 17H7v-7h2v7zm4 0h-2V7h2v10zm4 0h-2v-4h2v4z\"/>\n",
              "    </g>\n",
              "</svg>\n",
              "      </button>\n",
              "    </div>\n",
              "\n",
              "<style>\n",
              "  .colab-df-quickchart {\n",
              "    background-color: #E8F0FE;\n",
              "    border: none;\n",
              "    border-radius: 50%;\n",
              "    cursor: pointer;\n",
              "    display: none;\n",
              "    fill: #1967D2;\n",
              "    height: 32px;\n",
              "    padding: 0 0 0 0;\n",
              "    width: 32px;\n",
              "  }\n",
              "\n",
              "  .colab-df-quickchart:hover {\n",
              "    background-color: #E2EBFA;\n",
              "    box-shadow: 0px 1px 2px rgba(60, 64, 67, 0.3), 0px 1px 3px 1px rgba(60, 64, 67, 0.15);\n",
              "    fill: #174EA6;\n",
              "  }\n",
              "\n",
              "  [theme=dark] .colab-df-quickchart {\n",
              "    background-color: #3B4455;\n",
              "    fill: #D2E3FC;\n",
              "  }\n",
              "\n",
              "  [theme=dark] .colab-df-quickchart:hover {\n",
              "    background-color: #434B5C;\n",
              "    box-shadow: 0px 1px 3px 1px rgba(0, 0, 0, 0.15);\n",
              "    filter: drop-shadow(0px 1px 2px rgba(0, 0, 0, 0.3));\n",
              "    fill: #FFFFFF;\n",
              "  }\n",
              "</style>\n",
              "\n",
              "    <script>\n",
              "      async function quickchart(key) {\n",
              "        const containerElement = document.querySelector('#' + key);\n",
              "        const charts = await google.colab.kernel.invokeFunction(\n",
              "            'suggestCharts', [key], {});\n",
              "      }\n",
              "    </script>\n",
              "\n",
              "      <script>\n",
              "\n",
              "function displayQuickchartButton(domScope) {\n",
              "  let quickchartButtonEl =\n",
              "    domScope.querySelector('#df-cad5c288-a5b6-42f8-ae2c-83e47e9ce537 button.colab-df-quickchart');\n",
              "  quickchartButtonEl.style.display =\n",
              "    google.colab.kernel.accessAllowed ? 'block' : 'none';\n",
              "}\n",
              "\n",
              "        displayQuickchartButton(document);\n",
              "      </script>\n",
              "      <style>\n",
              "    .colab-df-container {\n",
              "      display:flex;\n",
              "      flex-wrap:wrap;\n",
              "      gap: 12px;\n",
              "    }\n",
              "\n",
              "    .colab-df-convert {\n",
              "      background-color: #E8F0FE;\n",
              "      border: none;\n",
              "      border-radius: 50%;\n",
              "      cursor: pointer;\n",
              "      display: none;\n",
              "      fill: #1967D2;\n",
              "      height: 32px;\n",
              "      padding: 0 0 0 0;\n",
              "      width: 32px;\n",
              "    }\n",
              "\n",
              "    .colab-df-convert:hover {\n",
              "      background-color: #E2EBFA;\n",
              "      box-shadow: 0px 1px 2px rgba(60, 64, 67, 0.3), 0px 1px 3px 1px rgba(60, 64, 67, 0.15);\n",
              "      fill: #174EA6;\n",
              "    }\n",
              "\n",
              "    [theme=dark] .colab-df-convert {\n",
              "      background-color: #3B4455;\n",
              "      fill: #D2E3FC;\n",
              "    }\n",
              "\n",
              "    [theme=dark] .colab-df-convert:hover {\n",
              "      background-color: #434B5C;\n",
              "      box-shadow: 0px 1px 3px 1px rgba(0, 0, 0, 0.15);\n",
              "      filter: drop-shadow(0px 1px 2px rgba(0, 0, 0, 0.3));\n",
              "      fill: #FFFFFF;\n",
              "    }\n",
              "  </style>\n",
              "\n",
              "      <script>\n",
              "        const buttonEl =\n",
              "          document.querySelector('#df-62e79c46-71ce-434f-9137-fe7f878cdd25 button.colab-df-convert');\n",
              "        buttonEl.style.display =\n",
              "          google.colab.kernel.accessAllowed ? 'block' : 'none';\n",
              "\n",
              "        async function convertToInteractive(key) {\n",
              "          const element = document.querySelector('#df-62e79c46-71ce-434f-9137-fe7f878cdd25');\n",
              "          const dataTable =\n",
              "            await google.colab.kernel.invokeFunction('convertToInteractive',\n",
              "                                                     [key], {});\n",
              "          if (!dataTable) return;\n",
              "\n",
              "          const docLinkHtml = 'Like what you see? Visit the ' +\n",
              "            '<a target=\"_blank\" href=https://colab.research.google.com/notebooks/data_table.ipynb>data table notebook</a>'\n",
              "            + ' to learn more about interactive tables.';\n",
              "          element.innerHTML = '';\n",
              "          dataTable['output_type'] = 'display_data';\n",
              "          await google.colab.output.renderOutput(dataTable, element);\n",
              "          const docLink = document.createElement('div');\n",
              "          docLink.innerHTML = docLinkHtml;\n",
              "          element.appendChild(docLink);\n",
              "        }\n",
              "      </script>\n",
              "    </div>\n",
              "  </div>\n"
            ],
            "text/plain": [
              "   6  0  0.1  0.2  0.3  0.4  0.5  0.6  0.7  0.8  ...  0.581  0.582  0.583  \\\n",
              "0  5  0    0    0    0    0    0    0    0    0  ...      0      0      0   \n",
              "1  7  0    0    0    0    0    0    0    0    0  ...      0      0      0   \n",
              "2  9  0    0    0    0    0    0    0    0    0  ...      0      0      0   \n",
              "3  5  0    0    0    0    0    0    0    0    0  ...      0      0      0   \n",
              "4  2  0    0    0    0    0    0    0    0    0  ...      0      0      0   \n",
              "\n",
              "   0.584  0.585  0.586  0.587  0.588  0.589  0.590  \n",
              "0      0      0      0      0      0      0      0  \n",
              "1      0      0      0      0      0      0      0  \n",
              "2      0      0      0      0      0      0      0  \n",
              "3      0      0      0      0      0      0      0  \n",
              "4      0      0      0      0      0      0      0  \n",
              "\n",
              "[5 rows x 785 columns]"
            ]
          },
          "execution_count": 39,
          "metadata": {},
          "output_type": "execute_result"
        }
      ],
      "source": [
        "df_mnist_train_small.iloc[: , : ].head()"
      ]
    },
    {
      "cell_type": "markdown",
      "metadata": {
        "id": "GoHIvYxwvvlv"
      },
      "source": [
        "### Train Model with SoftMax Activations"
      ]
    },
    {
      "cell_type": "code",
      "execution_count": null,
      "metadata": {
        "id": "fIEBOfExgFtR"
      },
      "outputs": [],
      "source": [
        "import sklearn\n",
        "from tensorflow.keras.losses import CategoricalCrossentropy"
      ]
    },
    {
      "cell_type": "code",
      "execution_count": null,
      "metadata": {
        "id": "MQwyouL3gCIp"
      },
      "outputs": [],
      "source": [
        "model_neuralnet_softmax = Sequential([\n",
        "    Dense(units=25, activation=\"softmax\"),\n",
        "    Dense(units=15, activation=\"softmax\"),\n",
        "    Dense(units=10, activation=\"softmax\"),\n",
        "])"
      ]
    },
    {
      "cell_type": "code",
      "execution_count": null,
      "metadata": {
        "id": "RPgAreu-h8PF"
      },
      "outputs": [],
      "source": [
        "from tensorflow.keras.losses import SparseCategoricalCrossentropy"
      ]
    },
    {
      "cell_type": "code",
      "execution_count": null,
      "metadata": {
        "colab": {
          "base_uri": "https://localhost:8080/"
        },
        "id": "aUEE9aiVwyqL",
        "outputId": "5e0391d4-d1c4-459e-893e-0faaf198311e"
      },
      "outputs": [
        {
          "name": "stdout",
          "output_type": "stream",
          "text": [
            "Epoch 1/128\n",
            "625/625 [==============================] - 1s 1ms/step - loss: 2.2432\n",
            "Epoch 2/128\n",
            "625/625 [==============================] - 1s 2ms/step - loss: 1.9989\n",
            "Epoch 3/128\n",
            "625/625 [==============================] - 1s 2ms/step - loss: 1.6735\n",
            "Epoch 4/128\n",
            "625/625 [==============================] - 1s 2ms/step - loss: 1.4264\n",
            "Epoch 5/128\n",
            "625/625 [==============================] - 1s 2ms/step - loss: 1.2950\n",
            "Epoch 6/128\n",
            "625/625 [==============================] - 2s 3ms/step - loss: 1.2352\n",
            "Epoch 7/128\n",
            "625/625 [==============================] - 2s 3ms/step - loss: 1.1769\n",
            "Epoch 8/128\n",
            "625/625 [==============================] - 2s 3ms/step - loss: 1.1564\n",
            "Epoch 9/128\n",
            "625/625 [==============================] - 1s 2ms/step - loss: 1.1601\n",
            "Epoch 10/128\n",
            "625/625 [==============================] - 1s 2ms/step - loss: 1.1458\n",
            "Epoch 11/128\n",
            "625/625 [==============================] - 1s 1ms/step - loss: 1.1414\n",
            "Epoch 12/128\n",
            "625/625 [==============================] - 1s 1ms/step - loss: 1.1412\n",
            "Epoch 13/128\n",
            "625/625 [==============================] - 1s 1ms/step - loss: 1.1491\n",
            "Epoch 14/128\n",
            "625/625 [==============================] - 1s 1ms/step - loss: 1.1474\n",
            "Epoch 15/128\n",
            "625/625 [==============================] - 1s 1ms/step - loss: 1.1309\n",
            "Epoch 16/128\n",
            "625/625 [==============================] - 1s 1ms/step - loss: 1.1194\n",
            "Epoch 17/128\n",
            "625/625 [==============================] - 1s 1ms/step - loss: 1.0974\n",
            "Epoch 18/128\n",
            "625/625 [==============================] - 1s 1ms/step - loss: 1.0845\n",
            "Epoch 19/128\n",
            "625/625 [==============================] - 1s 1ms/step - loss: 1.1084\n",
            "Epoch 20/128\n",
            "625/625 [==============================] - 1s 1ms/step - loss: 1.1025\n",
            "Epoch 21/128\n",
            "625/625 [==============================] - 1s 2ms/step - loss: 1.0707\n",
            "Epoch 22/128\n",
            "625/625 [==============================] - 1s 1ms/step - loss: 1.0440\n",
            "Epoch 23/128\n",
            "625/625 [==============================] - 1s 1ms/step - loss: 1.0437\n",
            "Epoch 24/128\n",
            "625/625 [==============================] - 1s 1ms/step - loss: 1.0368\n",
            "Epoch 25/128\n",
            "625/625 [==============================] - 1s 1ms/step - loss: 1.0288\n",
            "Epoch 26/128\n",
            "625/625 [==============================] - 1s 1ms/step - loss: 1.0187\n",
            "Epoch 27/128\n",
            "625/625 [==============================] - 1s 1ms/step - loss: 1.0048\n",
            "Epoch 28/128\n",
            "625/625 [==============================] - 1s 1ms/step - loss: 1.0064\n",
            "Epoch 29/128\n",
            "625/625 [==============================] - 1s 1ms/step - loss: 1.0002\n",
            "Epoch 30/128\n",
            "625/625 [==============================] - 1s 1ms/step - loss: 1.0009\n",
            "Epoch 31/128\n",
            "625/625 [==============================] - 1s 1ms/step - loss: 0.9924\n",
            "Epoch 32/128\n",
            "625/625 [==============================] - 1s 1ms/step - loss: 1.0033\n",
            "Epoch 33/128\n",
            "625/625 [==============================] - 1s 1ms/step - loss: 0.9890\n",
            "Epoch 34/128\n",
            "625/625 [==============================] - 1s 1ms/step - loss: 0.9907\n",
            "Epoch 35/128\n",
            "625/625 [==============================] - 1s 1ms/step - loss: 0.9843\n",
            "Epoch 36/128\n",
            "625/625 [==============================] - 1s 2ms/step - loss: 0.9895\n",
            "Epoch 37/128\n",
            "625/625 [==============================] - 1s 1ms/step - loss: 1.0015\n",
            "Epoch 38/128\n",
            "625/625 [==============================] - 1s 1ms/step - loss: 0.9933\n",
            "Epoch 39/128\n",
            "625/625 [==============================] - 1s 1ms/step - loss: 0.9708\n",
            "Epoch 40/128\n",
            "625/625 [==============================] - 1s 1ms/step - loss: 0.9749\n",
            "Epoch 41/128\n",
            "625/625 [==============================] - 1s 1ms/step - loss: 0.9729\n",
            "Epoch 42/128\n",
            "625/625 [==============================] - 1s 1ms/step - loss: 0.9613\n",
            "Epoch 43/128\n",
            "625/625 [==============================] - 1s 1ms/step - loss: 0.9602\n",
            "Epoch 44/128\n",
            "625/625 [==============================] - 1s 1ms/step - loss: 0.9694\n",
            "Epoch 45/128\n",
            "625/625 [==============================] - 1s 1ms/step - loss: 0.9760\n",
            "Epoch 46/128\n",
            "625/625 [==============================] - 1s 1ms/step - loss: 0.9581\n",
            "Epoch 47/128\n",
            "625/625 [==============================] - 1s 1ms/step - loss: 0.9659\n",
            "Epoch 48/128\n",
            "625/625 [==============================] - 1s 1ms/step - loss: 0.9783\n",
            "Epoch 49/128\n",
            "625/625 [==============================] - 1s 1ms/step - loss: 0.9657\n",
            "Epoch 50/128\n",
            "625/625 [==============================] - 1s 1ms/step - loss: 0.9501\n",
            "Epoch 51/128\n",
            "625/625 [==============================] - 1s 1ms/step - loss: 0.9602\n",
            "Epoch 52/128\n",
            "625/625 [==============================] - 1s 2ms/step - loss: 0.9628\n",
            "Epoch 53/128\n",
            "625/625 [==============================] - 1s 1ms/step - loss: 0.9586\n",
            "Epoch 54/128\n",
            "625/625 [==============================] - 1s 1ms/step - loss: 0.9563\n",
            "Epoch 55/128\n",
            "625/625 [==============================] - 1s 1ms/step - loss: 0.9545\n",
            "Epoch 56/128\n",
            "625/625 [==============================] - 1s 1ms/step - loss: 0.9538\n",
            "Epoch 57/128\n",
            "625/625 [==============================] - 1s 1ms/step - loss: 0.9512\n",
            "Epoch 58/128\n",
            "625/625 [==============================] - 1s 1ms/step - loss: 0.9568\n",
            "Epoch 59/128\n",
            "625/625 [==============================] - 1s 1ms/step - loss: 0.9601\n",
            "Epoch 60/128\n",
            "625/625 [==============================] - 1s 1ms/step - loss: 0.9506\n",
            "Epoch 61/128\n",
            "625/625 [==============================] - 1s 1ms/step - loss: 0.9446\n",
            "Epoch 62/128\n",
            "625/625 [==============================] - 1s 1ms/step - loss: 0.9434\n",
            "Epoch 63/128\n",
            "625/625 [==============================] - 1s 1ms/step - loss: 0.9512\n",
            "Epoch 64/128\n",
            "625/625 [==============================] - 1s 1ms/step - loss: 0.9447\n",
            "Epoch 65/128\n",
            "625/625 [==============================] - 1s 1ms/step - loss: 0.9478\n",
            "Epoch 66/128\n",
            "625/625 [==============================] - 1s 2ms/step - loss: 0.9385\n",
            "Epoch 67/128\n",
            "625/625 [==============================] - 1s 1ms/step - loss: 0.9552\n",
            "Epoch 68/128\n",
            "625/625 [==============================] - 1s 1ms/step - loss: 0.9351\n",
            "Epoch 69/128\n",
            "625/625 [==============================] - 1s 1ms/step - loss: 0.9429\n",
            "Epoch 70/128\n",
            "625/625 [==============================] - 1s 1ms/step - loss: 0.9363\n",
            "Epoch 71/128\n",
            "625/625 [==============================] - 1s 1ms/step - loss: 0.9544\n",
            "Epoch 72/128\n",
            "625/625 [==============================] - 1s 1ms/step - loss: 0.9406\n",
            "Epoch 73/128\n",
            "625/625 [==============================] - 1s 1ms/step - loss: 0.9402\n",
            "Epoch 74/128\n",
            "625/625 [==============================] - 1s 1ms/step - loss: 0.9325\n",
            "Epoch 75/128\n",
            "625/625 [==============================] - 1s 1ms/step - loss: 0.9401\n",
            "Epoch 76/128\n",
            "625/625 [==============================] - 1s 1ms/step - loss: 0.9314\n",
            "Epoch 77/128\n",
            "625/625 [==============================] - 1s 1ms/step - loss: 0.9445\n",
            "Epoch 78/128\n",
            "625/625 [==============================] - 1s 1ms/step - loss: 0.9312\n",
            "Epoch 79/128\n",
            "625/625 [==============================] - 1s 1ms/step - loss: 0.9358\n",
            "Epoch 80/128\n",
            "625/625 [==============================] - 1s 1ms/step - loss: 0.9334\n",
            "Epoch 81/128\n",
            "625/625 [==============================] - 1s 2ms/step - loss: 0.9252\n",
            "Epoch 82/128\n",
            "625/625 [==============================] - 1s 1ms/step - loss: 0.9426\n",
            "Epoch 83/128\n",
            "625/625 [==============================] - 1s 1ms/step - loss: 0.9402\n",
            "Epoch 84/128\n",
            "625/625 [==============================] - 1s 1ms/step - loss: 0.9522\n",
            "Epoch 85/128\n",
            "625/625 [==============================] - 1s 1ms/step - loss: 0.9389\n",
            "Epoch 86/128\n",
            "625/625 [==============================] - 1s 1ms/step - loss: 0.9377\n",
            "Epoch 87/128\n",
            "625/625 [==============================] - 1s 1ms/step - loss: 0.9410\n",
            "Epoch 88/128\n",
            "625/625 [==============================] - 1s 1ms/step - loss: 0.9363\n",
            "Epoch 89/128\n",
            "625/625 [==============================] - 1s 1ms/step - loss: 0.9296\n",
            "Epoch 90/128\n",
            "625/625 [==============================] - 1s 1ms/step - loss: 0.9367\n",
            "Epoch 91/128\n",
            "625/625 [==============================] - 1s 1ms/step - loss: 0.9190\n",
            "Epoch 92/128\n",
            "625/625 [==============================] - 1s 1ms/step - loss: 0.9459\n",
            "Epoch 93/128\n",
            "625/625 [==============================] - 1s 1ms/step - loss: 0.9358\n",
            "Epoch 94/128\n",
            "625/625 [==============================] - 1s 1ms/step - loss: 0.9454\n",
            "Epoch 95/128\n",
            "625/625 [==============================] - 1s 1ms/step - loss: 0.9478\n",
            "Epoch 96/128\n",
            "625/625 [==============================] - 1s 2ms/step - loss: 0.9308\n",
            "Epoch 97/128\n",
            "625/625 [==============================] - 1s 1ms/step - loss: 0.9447\n",
            "Epoch 98/128\n",
            "625/625 [==============================] - 1s 1ms/step - loss: 0.9448\n",
            "Epoch 99/128\n",
            "625/625 [==============================] - 1s 1ms/step - loss: 0.9391\n",
            "Epoch 100/128\n",
            "625/625 [==============================] - 1s 1ms/step - loss: 0.9314\n",
            "Epoch 101/128\n",
            "625/625 [==============================] - 1s 1ms/step - loss: 0.9361\n",
            "Epoch 102/128\n",
            "625/625 [==============================] - 1s 1ms/step - loss: 0.9278\n",
            "Epoch 103/128\n",
            "625/625 [==============================] - 1s 1ms/step - loss: 0.9202\n",
            "Epoch 104/128\n",
            "625/625 [==============================] - 1s 1ms/step - loss: 0.9298\n",
            "Epoch 105/128\n",
            "625/625 [==============================] - 1s 1ms/step - loss: 0.9251\n",
            "Epoch 106/128\n",
            "625/625 [==============================] - 1s 1ms/step - loss: 0.9171\n",
            "Epoch 107/128\n",
            "625/625 [==============================] - 1s 1ms/step - loss: 0.9251\n",
            "Epoch 108/128\n",
            "625/625 [==============================] - 1s 1ms/step - loss: 0.9163\n",
            "Epoch 109/128\n",
            "625/625 [==============================] - 1s 1ms/step - loss: 0.9212\n",
            "Epoch 110/128\n",
            "625/625 [==============================] - 1s 1ms/step - loss: 0.9219\n",
            "Epoch 111/128\n",
            "625/625 [==============================] - 1s 2ms/step - loss: 0.9333\n",
            "Epoch 112/128\n",
            "625/625 [==============================] - 1s 2ms/step - loss: 0.9371\n",
            "Epoch 113/128\n",
            "625/625 [==============================] - 1s 1ms/step - loss: 0.9279\n",
            "Epoch 114/128\n",
            "625/625 [==============================] - 1s 1ms/step - loss: 0.9284\n",
            "Epoch 115/128\n",
            "625/625 [==============================] - 1s 1ms/step - loss: 0.9158\n",
            "Epoch 116/128\n",
            "625/625 [==============================] - 1s 1ms/step - loss: 0.9309\n",
            "Epoch 117/128\n",
            "625/625 [==============================] - 1s 1ms/step - loss: 0.9301\n",
            "Epoch 118/128\n",
            "625/625 [==============================] - 1s 1ms/step - loss: 0.9212\n",
            "Epoch 119/128\n",
            "625/625 [==============================] - 1s 1ms/step - loss: 0.9250\n",
            "Epoch 120/128\n",
            "625/625 [==============================] - 1s 1ms/step - loss: 0.9234\n",
            "Epoch 121/128\n",
            "625/625 [==============================] - 1s 1ms/step - loss: 0.9162\n",
            "Epoch 122/128\n",
            "625/625 [==============================] - 1s 1ms/step - loss: 0.9183\n",
            "Epoch 123/128\n",
            "625/625 [==============================] - 1s 1ms/step - loss: 0.9234\n",
            "Epoch 124/128\n",
            "625/625 [==============================] - 1s 1ms/step - loss: 0.9225\n",
            "Epoch 125/128\n",
            "625/625 [==============================] - 1s 1ms/step - loss: 0.9347\n",
            "Epoch 126/128\n",
            "625/625 [==============================] - 1s 1ms/step - loss: 0.9195\n",
            "Epoch 127/128\n",
            "625/625 [==============================] - 1s 2ms/step - loss: 0.9557\n",
            "Epoch 128/128\n",
            "625/625 [==============================] - 1s 1ms/step - loss: 0.9304\n"
          ]
        },
        {
          "data": {
            "text/plain": [
              "<keras.callbacks.History at 0x7850fb9d3670>"
            ]
          },
          "execution_count": 43,
          "metadata": {},
          "output_type": "execute_result"
        }
      ],
      "source": [
        "model_neuralnet_softmax.compile(loss=SparseCategoricalCrossentropy())\n",
        "model_neuralnet_softmax.fit(df_mnist_train_small.iloc[: , 1:], df_mnist_train_small.iloc[: , 0:1], epochs=128)"
      ]
    },
    {
      "cell_type": "markdown",
      "metadata": {
        "id": "nEAwSXvLvX3E"
      },
      "source": [
        "### Train Model with ReLU Activations"
      ]
    },
    {
      "cell_type": "code",
      "execution_count": null,
      "metadata": {
        "id": "Rq9hzIJ4bv5Z"
      },
      "outputs": [],
      "source": [
        "# Using a ReLU as the output layer activation function results in a loss of nan, i.e. not a number.\n",
        "model_neuralnet_relu = Sequential([\n",
        "    Dense(units=25, activation=\"relu\"),\n",
        "    Dense(units=15, activation=\"relu\"),\n",
        "    Dense(units=10, activation=\"softmax\"),\n",
        "])"
      ]
    },
    {
      "cell_type": "code",
      "execution_count": null,
      "metadata": {
        "colab": {
          "base_uri": "https://localhost:8080/"
        },
        "id": "DC79lFDcyFIb",
        "outputId": "54623804-bd13-464f-daef-3f6231a466dc"
      },
      "outputs": [
        {
          "name": "stdout",
          "output_type": "stream",
          "text": [
            "Epoch 1/128\n",
            "625/625 [==============================] - 1s 1ms/step - loss: 2.6166\n",
            "Epoch 2/128\n",
            "625/625 [==============================] - 1s 1ms/step - loss: 0.9549\n",
            "Epoch 3/128\n",
            "625/625 [==============================] - 1s 1ms/step - loss: 0.7290\n",
            "Epoch 4/128\n",
            "625/625 [==============================] - 1s 1ms/step - loss: 0.6011\n",
            "Epoch 5/128\n",
            "625/625 [==============================] - 1s 1ms/step - loss: 0.5159\n",
            "Epoch 6/128\n",
            "625/625 [==============================] - 1s 1ms/step - loss: 0.4517\n",
            "Epoch 7/128\n",
            "625/625 [==============================] - 1s 1ms/step - loss: 0.4404\n",
            "Epoch 8/128\n",
            "625/625 [==============================] - 1s 1ms/step - loss: 0.4188\n",
            "Epoch 9/128\n",
            "625/625 [==============================] - 1s 2ms/step - loss: 0.3933\n",
            "Epoch 10/128\n",
            "625/625 [==============================] - 1s 1ms/step - loss: 0.3848\n",
            "Epoch 11/128\n",
            "625/625 [==============================] - 1s 1ms/step - loss: 0.3798\n",
            "Epoch 12/128\n",
            "625/625 [==============================] - 1s 1ms/step - loss: 0.3604\n",
            "Epoch 13/128\n",
            "625/625 [==============================] - 1s 1ms/step - loss: 0.3430\n",
            "Epoch 14/128\n",
            "625/625 [==============================] - 1s 1ms/step - loss: 0.3325\n",
            "Epoch 15/128\n",
            "625/625 [==============================] - 1s 1ms/step - loss: 0.3146\n",
            "Epoch 16/128\n",
            "625/625 [==============================] - 1s 1ms/step - loss: 0.3074\n",
            "Epoch 17/128\n",
            "625/625 [==============================] - 1s 1ms/step - loss: 0.3106\n",
            "Epoch 18/128\n",
            "625/625 [==============================] - 1s 1ms/step - loss: 0.2985\n",
            "Epoch 19/128\n",
            "625/625 [==============================] - 1s 1ms/step - loss: 0.2929\n",
            "Epoch 20/128\n",
            "625/625 [==============================] - 1s 1ms/step - loss: 0.2854\n",
            "Epoch 21/128\n",
            "625/625 [==============================] - 1s 1ms/step - loss: 0.2885\n",
            "Epoch 22/128\n",
            "625/625 [==============================] - 1s 1ms/step - loss: 0.2843\n",
            "Epoch 23/128\n",
            "625/625 [==============================] - 1s 1ms/step - loss: 0.2713\n",
            "Epoch 24/128\n",
            "625/625 [==============================] - 1s 2ms/step - loss: 0.2693\n",
            "Epoch 25/128\n",
            "625/625 [==============================] - 1s 2ms/step - loss: 0.2635\n",
            "Epoch 26/128\n",
            "625/625 [==============================] - 1s 1ms/step - loss: 0.2592\n",
            "Epoch 27/128\n",
            "625/625 [==============================] - 1s 1ms/step - loss: 0.2539\n",
            "Epoch 28/128\n",
            "625/625 [==============================] - 1s 1ms/step - loss: 0.2457\n",
            "Epoch 29/128\n",
            "625/625 [==============================] - 1s 1ms/step - loss: 0.2528\n",
            "Epoch 30/128\n",
            "625/625 [==============================] - 1s 1ms/step - loss: 0.2400\n",
            "Epoch 31/128\n",
            "625/625 [==============================] - 1s 1ms/step - loss: 0.2422\n",
            "Epoch 32/128\n",
            "625/625 [==============================] - 1s 1ms/step - loss: 0.2421\n",
            "Epoch 33/128\n",
            "625/625 [==============================] - 1s 1ms/step - loss: 0.2370\n",
            "Epoch 34/128\n",
            "625/625 [==============================] - 1s 1ms/step - loss: 0.2335\n",
            "Epoch 35/128\n",
            "625/625 [==============================] - 1s 1ms/step - loss: 0.2339\n",
            "Epoch 36/128\n",
            "625/625 [==============================] - 1s 1ms/step - loss: 0.2243\n",
            "Epoch 37/128\n",
            "625/625 [==============================] - 1s 1ms/step - loss: 0.2298\n",
            "Epoch 38/128\n",
            "625/625 [==============================] - 1s 1ms/step - loss: 0.2231\n",
            "Epoch 39/128\n",
            "625/625 [==============================] - 1s 1ms/step - loss: 0.2304\n",
            "Epoch 40/128\n",
            "625/625 [==============================] - 1s 1ms/step - loss: 0.2167\n",
            "Epoch 41/128\n",
            "625/625 [==============================] - 1s 1ms/step - loss: 0.2179\n",
            "Epoch 42/128\n",
            "625/625 [==============================] - 1s 1ms/step - loss: 0.2188\n",
            "Epoch 43/128\n",
            "625/625 [==============================] - 1s 1ms/step - loss: 0.2205\n",
            "Epoch 44/128\n",
            "625/625 [==============================] - 1s 1ms/step - loss: 0.2114\n",
            "Epoch 45/128\n",
            "625/625 [==============================] - 1s 1ms/step - loss: 0.2159\n",
            "Epoch 46/128\n",
            "625/625 [==============================] - 1s 1ms/step - loss: 0.2111\n",
            "Epoch 47/128\n",
            "625/625 [==============================] - 1s 1ms/step - loss: 0.2097\n",
            "Epoch 48/128\n",
            "625/625 [==============================] - 1s 1ms/step - loss: 0.2120\n",
            "Epoch 49/128\n",
            "625/625 [==============================] - 1s 1ms/step - loss: 0.2034\n",
            "Epoch 50/128\n",
            "625/625 [==============================] - 1s 1ms/step - loss: 0.2088\n",
            "Epoch 51/128\n",
            "625/625 [==============================] - 1s 1ms/step - loss: 0.2092\n",
            "Epoch 52/128\n",
            "625/625 [==============================] - 1s 1ms/step - loss: 0.2046\n",
            "Epoch 53/128\n",
            "625/625 [==============================] - 1s 1ms/step - loss: 0.2003\n",
            "Epoch 54/128\n",
            "625/625 [==============================] - 1s 1ms/step - loss: 0.2003\n",
            "Epoch 55/128\n",
            "625/625 [==============================] - 1s 1ms/step - loss: 0.2039\n",
            "Epoch 56/128\n",
            "625/625 [==============================] - 1s 1ms/step - loss: 0.1971\n",
            "Epoch 57/128\n",
            "625/625 [==============================] - 1s 1ms/step - loss: 0.1987\n",
            "Epoch 58/128\n",
            "625/625 [==============================] - 1s 1ms/step - loss: 0.2029\n",
            "Epoch 59/128\n",
            "625/625 [==============================] - 1s 1ms/step - loss: 0.1936\n",
            "Epoch 60/128\n",
            "625/625 [==============================] - 1s 1ms/step - loss: 0.1984\n",
            "Epoch 61/128\n",
            "625/625 [==============================] - 1s 1ms/step - loss: 0.2005\n",
            "Epoch 62/128\n",
            "625/625 [==============================] - 1s 1ms/step - loss: 0.2000\n",
            "Epoch 63/128\n",
            "625/625 [==============================] - 1s 1ms/step - loss: 0.1971\n",
            "Epoch 64/128\n",
            "625/625 [==============================] - 1s 1ms/step - loss: 0.1955\n",
            "Epoch 65/128\n",
            "625/625 [==============================] - 1s 1ms/step - loss: 0.1995\n",
            "Epoch 66/128\n",
            "625/625 [==============================] - 1s 1ms/step - loss: 0.1937\n",
            "Epoch 67/128\n",
            "625/625 [==============================] - 1s 1ms/step - loss: 0.1935\n",
            "Epoch 68/128\n",
            "625/625 [==============================] - 1s 1ms/step - loss: 0.2063\n",
            "Epoch 69/128\n",
            "625/625 [==============================] - 1s 1ms/step - loss: 0.1971\n",
            "Epoch 70/128\n",
            "625/625 [==============================] - 1s 1ms/step - loss: 0.2006\n",
            "Epoch 71/128\n",
            "625/625 [==============================] - 1s 2ms/step - loss: 0.1928\n",
            "Epoch 72/128\n",
            "625/625 [==============================] - 1s 2ms/step - loss: 0.1943\n",
            "Epoch 73/128\n",
            "625/625 [==============================] - 1s 1ms/step - loss: 0.1950\n",
            "Epoch 74/128\n",
            "625/625 [==============================] - 1s 1ms/step - loss: 0.1909\n",
            "Epoch 75/128\n",
            "625/625 [==============================] - 1s 1ms/step - loss: 0.1900\n",
            "Epoch 76/128\n",
            "625/625 [==============================] - 1s 1ms/step - loss: 0.1914\n",
            "Epoch 77/128\n",
            "625/625 [==============================] - 1s 1ms/step - loss: 0.1994\n",
            "Epoch 78/128\n",
            "625/625 [==============================] - 1s 1ms/step - loss: 0.1927\n",
            "Epoch 79/128\n",
            "625/625 [==============================] - 1s 1ms/step - loss: 0.1865\n",
            "Epoch 80/128\n",
            "625/625 [==============================] - 1s 1ms/step - loss: 0.1920\n",
            "Epoch 81/128\n",
            "625/625 [==============================] - 1s 1ms/step - loss: 0.1890\n",
            "Epoch 82/128\n",
            "625/625 [==============================] - 1s 1ms/step - loss: 0.1912\n",
            "Epoch 83/128\n",
            "625/625 [==============================] - 1s 1ms/step - loss: 0.1901\n",
            "Epoch 84/128\n",
            "625/625 [==============================] - 1s 1ms/step - loss: 0.1893\n",
            "Epoch 85/128\n",
            "625/625 [==============================] - 1s 1ms/step - loss: 0.1879\n",
            "Epoch 86/128\n",
            "625/625 [==============================] - 1s 1ms/step - loss: 0.1880\n",
            "Epoch 87/128\n",
            "625/625 [==============================] - 1s 2ms/step - loss: 0.1804\n",
            "Epoch 88/128\n",
            "625/625 [==============================] - 1s 1ms/step - loss: 0.1861\n",
            "Epoch 89/128\n",
            "625/625 [==============================] - 1s 1ms/step - loss: 0.1835\n",
            "Epoch 90/128\n",
            "625/625 [==============================] - 1s 1ms/step - loss: 0.1889\n",
            "Epoch 91/128\n",
            "625/625 [==============================] - 1s 1ms/step - loss: 0.1956\n",
            "Epoch 92/128\n",
            "625/625 [==============================] - 1s 1ms/step - loss: 0.1875\n",
            "Epoch 93/128\n",
            "625/625 [==============================] - 1s 1ms/step - loss: 0.1882\n",
            "Epoch 94/128\n",
            "625/625 [==============================] - 1s 1ms/step - loss: 0.1858\n",
            "Epoch 95/128\n",
            "625/625 [==============================] - 1s 1ms/step - loss: 0.1912\n",
            "Epoch 96/128\n",
            "625/625 [==============================] - 1s 1ms/step - loss: 0.1828\n",
            "Epoch 97/128\n",
            "625/625 [==============================] - 1s 1ms/step - loss: 0.1819\n",
            "Epoch 98/128\n",
            "625/625 [==============================] - 1s 1ms/step - loss: 0.1872\n",
            "Epoch 99/128\n",
            "625/625 [==============================] - 1s 1ms/step - loss: 0.1830\n",
            "Epoch 100/128\n",
            "625/625 [==============================] - 1s 1ms/step - loss: 0.1838\n",
            "Epoch 101/128\n",
            "625/625 [==============================] - 1s 1ms/step - loss: 0.1766\n",
            "Epoch 102/128\n",
            "625/625 [==============================] - 1s 2ms/step - loss: 0.1812\n",
            "Epoch 103/128\n",
            "625/625 [==============================] - 1s 2ms/step - loss: 0.1828\n",
            "Epoch 104/128\n",
            "625/625 [==============================] - 1s 1ms/step - loss: 0.1812\n",
            "Epoch 105/128\n",
            "625/625 [==============================] - 1s 1ms/step - loss: 0.1872\n",
            "Epoch 106/128\n",
            "625/625 [==============================] - 1s 1ms/step - loss: 0.1790\n",
            "Epoch 107/128\n",
            "625/625 [==============================] - 1s 1ms/step - loss: 0.1905\n",
            "Epoch 108/128\n",
            "625/625 [==============================] - 1s 1ms/step - loss: 0.1822\n",
            "Epoch 109/128\n",
            "625/625 [==============================] - 1s 1ms/step - loss: 0.1833\n",
            "Epoch 110/128\n",
            "625/625 [==============================] - 1s 1ms/step - loss: 0.1861\n",
            "Epoch 111/128\n",
            "625/625 [==============================] - 1s 1ms/step - loss: 0.1918\n",
            "Epoch 112/128\n",
            "625/625 [==============================] - 1s 1ms/step - loss: 0.1875\n",
            "Epoch 113/128\n",
            "625/625 [==============================] - 1s 1ms/step - loss: 0.1888\n",
            "Epoch 114/128\n",
            "625/625 [==============================] - 1s 1ms/step - loss: 0.1805\n",
            "Epoch 115/128\n",
            "625/625 [==============================] - 1s 1ms/step - loss: 0.1893\n",
            "Epoch 116/128\n",
            "625/625 [==============================] - 1s 2ms/step - loss: 0.1818\n",
            "Epoch 117/128\n",
            "625/625 [==============================] - 1s 2ms/step - loss: 0.1812\n",
            "Epoch 118/128\n",
            "625/625 [==============================] - 1s 2ms/step - loss: 0.1863\n",
            "Epoch 119/128\n",
            "625/625 [==============================] - 1s 1ms/step - loss: 0.1855\n",
            "Epoch 120/128\n",
            "625/625 [==============================] - 1s 1ms/step - loss: 0.1804\n",
            "Epoch 121/128\n",
            "625/625 [==============================] - 1s 1ms/step - loss: 0.1822\n",
            "Epoch 122/128\n",
            "625/625 [==============================] - 1s 1ms/step - loss: 0.1871\n",
            "Epoch 123/128\n",
            "625/625 [==============================] - 1s 1ms/step - loss: 0.1795\n",
            "Epoch 124/128\n",
            "625/625 [==============================] - 1s 1ms/step - loss: 0.1888\n",
            "Epoch 125/128\n",
            "625/625 [==============================] - 1s 1ms/step - loss: 0.1797\n",
            "Epoch 126/128\n",
            "625/625 [==============================] - 1s 1ms/step - loss: 0.1812\n",
            "Epoch 127/128\n",
            "625/625 [==============================] - 1s 1ms/step - loss: 0.1813\n",
            "Epoch 128/128\n",
            "625/625 [==============================] - 1s 1ms/step - loss: 0.1803\n"
          ]
        },
        {
          "data": {
            "text/plain": [
              "<keras.callbacks.History at 0x7850fae9caf0>"
            ]
          },
          "execution_count": 45,
          "metadata": {},
          "output_type": "execute_result"
        }
      ],
      "source": [
        "model_neuralnet_relu.compile(loss=SparseCategoricalCrossentropy())\n",
        "model_neuralnet_relu.fit(df_mnist_train_small.iloc[: , 1: ], df_mnist_train_small.iloc[: , 0:1], epochs=128)"
      ]
    },
    {
      "cell_type": "code",
      "execution_count": null,
      "metadata": {
        "colab": {
          "base_uri": "https://localhost:8080/",
          "height": 236
        },
        "id": "TFFW-ZYjwfk7",
        "outputId": "86bcb806-08b9-4d50-ae7c-d85798142111"
      },
      "outputs": [
        {
          "data": {
            "text/html": [
              "\n",
              "\n",
              "  <div id=\"df-b2f3a1f8-a3c9-421f-96de-66970f743238\">\n",
              "    <div class=\"colab-df-container\">\n",
              "      <div>\n",
              "<style scoped>\n",
              "    .dataframe tbody tr th:only-of-type {\n",
              "        vertical-align: middle;\n",
              "    }\n",
              "\n",
              "    .dataframe tbody tr th {\n",
              "        vertical-align: top;\n",
              "    }\n",
              "\n",
              "    .dataframe thead th {\n",
              "        text-align: right;\n",
              "    }\n",
              "</style>\n",
              "<table border=\"1\" class=\"dataframe\">\n",
              "  <thead>\n",
              "    <tr style=\"text-align: right;\">\n",
              "      <th></th>\n",
              "      <th>7</th>\n",
              "      <th>0</th>\n",
              "      <th>0.1</th>\n",
              "      <th>0.2</th>\n",
              "      <th>0.3</th>\n",
              "      <th>0.4</th>\n",
              "      <th>0.5</th>\n",
              "      <th>0.6</th>\n",
              "      <th>0.7</th>\n",
              "      <th>0.8</th>\n",
              "      <th>...</th>\n",
              "      <th>0.658</th>\n",
              "      <th>0.659</th>\n",
              "      <th>0.660</th>\n",
              "      <th>0.661</th>\n",
              "      <th>0.662</th>\n",
              "      <th>0.663</th>\n",
              "      <th>0.664</th>\n",
              "      <th>0.665</th>\n",
              "      <th>0.666</th>\n",
              "      <th>0.667</th>\n",
              "    </tr>\n",
              "  </thead>\n",
              "  <tbody>\n",
              "    <tr>\n",
              "      <th>0</th>\n",
              "      <td>2</td>\n",
              "      <td>0</td>\n",
              "      <td>0</td>\n",
              "      <td>0</td>\n",
              "      <td>0</td>\n",
              "      <td>0</td>\n",
              "      <td>0</td>\n",
              "      <td>0</td>\n",
              "      <td>0</td>\n",
              "      <td>0</td>\n",
              "      <td>...</td>\n",
              "      <td>0</td>\n",
              "      <td>0</td>\n",
              "      <td>0</td>\n",
              "      <td>0</td>\n",
              "      <td>0</td>\n",
              "      <td>0</td>\n",
              "      <td>0</td>\n",
              "      <td>0</td>\n",
              "      <td>0</td>\n",
              "      <td>0</td>\n",
              "    </tr>\n",
              "    <tr>\n",
              "      <th>1</th>\n",
              "      <td>1</td>\n",
              "      <td>0</td>\n",
              "      <td>0</td>\n",
              "      <td>0</td>\n",
              "      <td>0</td>\n",
              "      <td>0</td>\n",
              "      <td>0</td>\n",
              "      <td>0</td>\n",
              "      <td>0</td>\n",
              "      <td>0</td>\n",
              "      <td>...</td>\n",
              "      <td>0</td>\n",
              "      <td>0</td>\n",
              "      <td>0</td>\n",
              "      <td>0</td>\n",
              "      <td>0</td>\n",
              "      <td>0</td>\n",
              "      <td>0</td>\n",
              "      <td>0</td>\n",
              "      <td>0</td>\n",
              "      <td>0</td>\n",
              "    </tr>\n",
              "    <tr>\n",
              "      <th>2</th>\n",
              "      <td>0</td>\n",
              "      <td>0</td>\n",
              "      <td>0</td>\n",
              "      <td>0</td>\n",
              "      <td>0</td>\n",
              "      <td>0</td>\n",
              "      <td>0</td>\n",
              "      <td>0</td>\n",
              "      <td>0</td>\n",
              "      <td>0</td>\n",
              "      <td>...</td>\n",
              "      <td>0</td>\n",
              "      <td>0</td>\n",
              "      <td>0</td>\n",
              "      <td>0</td>\n",
              "      <td>0</td>\n",
              "      <td>0</td>\n",
              "      <td>0</td>\n",
              "      <td>0</td>\n",
              "      <td>0</td>\n",
              "      <td>0</td>\n",
              "    </tr>\n",
              "    <tr>\n",
              "      <th>3</th>\n",
              "      <td>4</td>\n",
              "      <td>0</td>\n",
              "      <td>0</td>\n",
              "      <td>0</td>\n",
              "      <td>0</td>\n",
              "      <td>0</td>\n",
              "      <td>0</td>\n",
              "      <td>0</td>\n",
              "      <td>0</td>\n",
              "      <td>0</td>\n",
              "      <td>...</td>\n",
              "      <td>0</td>\n",
              "      <td>0</td>\n",
              "      <td>0</td>\n",
              "      <td>0</td>\n",
              "      <td>0</td>\n",
              "      <td>0</td>\n",
              "      <td>0</td>\n",
              "      <td>0</td>\n",
              "      <td>0</td>\n",
              "      <td>0</td>\n",
              "    </tr>\n",
              "    <tr>\n",
              "      <th>4</th>\n",
              "      <td>1</td>\n",
              "      <td>0</td>\n",
              "      <td>0</td>\n",
              "      <td>0</td>\n",
              "      <td>0</td>\n",
              "      <td>0</td>\n",
              "      <td>0</td>\n",
              "      <td>0</td>\n",
              "      <td>0</td>\n",
              "      <td>0</td>\n",
              "      <td>...</td>\n",
              "      <td>0</td>\n",
              "      <td>0</td>\n",
              "      <td>0</td>\n",
              "      <td>0</td>\n",
              "      <td>0</td>\n",
              "      <td>0</td>\n",
              "      <td>0</td>\n",
              "      <td>0</td>\n",
              "      <td>0</td>\n",
              "      <td>0</td>\n",
              "    </tr>\n",
              "  </tbody>\n",
              "</table>\n",
              "<p>5 rows × 785 columns</p>\n",
              "</div>\n",
              "      <button class=\"colab-df-convert\" onclick=\"convertToInteractive('df-b2f3a1f8-a3c9-421f-96de-66970f743238')\"\n",
              "              title=\"Convert this dataframe to an interactive table.\"\n",
              "              style=\"display:none;\">\n",
              "\n",
              "  <svg xmlns=\"http://www.w3.org/2000/svg\" height=\"24px\"viewBox=\"0 0 24 24\"\n",
              "       width=\"24px\">\n",
              "    <path d=\"M0 0h24v24H0V0z\" fill=\"none\"/>\n",
              "    <path d=\"M18.56 5.44l.94 2.06.94-2.06 2.06-.94-2.06-.94-.94-2.06-.94 2.06-2.06.94zm-11 1L8.5 8.5l.94-2.06 2.06-.94-2.06-.94L8.5 2.5l-.94 2.06-2.06.94zm10 10l.94 2.06.94-2.06 2.06-.94-2.06-.94-.94-2.06-.94 2.06-2.06.94z\"/><path d=\"M17.41 7.96l-1.37-1.37c-.4-.4-.92-.59-1.43-.59-.52 0-1.04.2-1.43.59L10.3 9.45l-7.72 7.72c-.78.78-.78 2.05 0 2.83L4 21.41c.39.39.9.59 1.41.59.51 0 1.02-.2 1.41-.59l7.78-7.78 2.81-2.81c.8-.78.8-2.07 0-2.86zM5.41 20L4 18.59l7.72-7.72 1.47 1.35L5.41 20z\"/>\n",
              "  </svg>\n",
              "      </button>\n",
              "\n",
              "\n",
              "\n",
              "    <div id=\"df-e895256b-8f20-4c16-916b-e6d5102b1180\">\n",
              "      <button class=\"colab-df-quickchart\" onclick=\"quickchart('df-e895256b-8f20-4c16-916b-e6d5102b1180')\"\n",
              "              title=\"Suggest charts.\"\n",
              "              style=\"display:none;\">\n",
              "\n",
              "<svg xmlns=\"http://www.w3.org/2000/svg\" height=\"24px\"viewBox=\"0 0 24 24\"\n",
              "     width=\"24px\">\n",
              "    <g>\n",
              "        <path d=\"M19 3H5c-1.1 0-2 .9-2 2v14c0 1.1.9 2 2 2h14c1.1 0 2-.9 2-2V5c0-1.1-.9-2-2-2zM9 17H7v-7h2v7zm4 0h-2V7h2v10zm4 0h-2v-4h2v4z\"/>\n",
              "    </g>\n",
              "</svg>\n",
              "      </button>\n",
              "    </div>\n",
              "\n",
              "<style>\n",
              "  .colab-df-quickchart {\n",
              "    background-color: #E8F0FE;\n",
              "    border: none;\n",
              "    border-radius: 50%;\n",
              "    cursor: pointer;\n",
              "    display: none;\n",
              "    fill: #1967D2;\n",
              "    height: 32px;\n",
              "    padding: 0 0 0 0;\n",
              "    width: 32px;\n",
              "  }\n",
              "\n",
              "  .colab-df-quickchart:hover {\n",
              "    background-color: #E2EBFA;\n",
              "    box-shadow: 0px 1px 2px rgba(60, 64, 67, 0.3), 0px 1px 3px 1px rgba(60, 64, 67, 0.15);\n",
              "    fill: #174EA6;\n",
              "  }\n",
              "\n",
              "  [theme=dark] .colab-df-quickchart {\n",
              "    background-color: #3B4455;\n",
              "    fill: #D2E3FC;\n",
              "  }\n",
              "\n",
              "  [theme=dark] .colab-df-quickchart:hover {\n",
              "    background-color: #434B5C;\n",
              "    box-shadow: 0px 1px 3px 1px rgba(0, 0, 0, 0.15);\n",
              "    filter: drop-shadow(0px 1px 2px rgba(0, 0, 0, 0.3));\n",
              "    fill: #FFFFFF;\n",
              "  }\n",
              "</style>\n",
              "\n",
              "    <script>\n",
              "      async function quickchart(key) {\n",
              "        const containerElement = document.querySelector('#' + key);\n",
              "        const charts = await google.colab.kernel.invokeFunction(\n",
              "            'suggestCharts', [key], {});\n",
              "      }\n",
              "    </script>\n",
              "\n",
              "      <script>\n",
              "\n",
              "function displayQuickchartButton(domScope) {\n",
              "  let quickchartButtonEl =\n",
              "    domScope.querySelector('#df-e895256b-8f20-4c16-916b-e6d5102b1180 button.colab-df-quickchart');\n",
              "  quickchartButtonEl.style.display =\n",
              "    google.colab.kernel.accessAllowed ? 'block' : 'none';\n",
              "}\n",
              "\n",
              "        displayQuickchartButton(document);\n",
              "      </script>\n",
              "      <style>\n",
              "    .colab-df-container {\n",
              "      display:flex;\n",
              "      flex-wrap:wrap;\n",
              "      gap: 12px;\n",
              "    }\n",
              "\n",
              "    .colab-df-convert {\n",
              "      background-color: #E8F0FE;\n",
              "      border: none;\n",
              "      border-radius: 50%;\n",
              "      cursor: pointer;\n",
              "      display: none;\n",
              "      fill: #1967D2;\n",
              "      height: 32px;\n",
              "      padding: 0 0 0 0;\n",
              "      width: 32px;\n",
              "    }\n",
              "\n",
              "    .colab-df-convert:hover {\n",
              "      background-color: #E2EBFA;\n",
              "      box-shadow: 0px 1px 2px rgba(60, 64, 67, 0.3), 0px 1px 3px 1px rgba(60, 64, 67, 0.15);\n",
              "      fill: #174EA6;\n",
              "    }\n",
              "\n",
              "    [theme=dark] .colab-df-convert {\n",
              "      background-color: #3B4455;\n",
              "      fill: #D2E3FC;\n",
              "    }\n",
              "\n",
              "    [theme=dark] .colab-df-convert:hover {\n",
              "      background-color: #434B5C;\n",
              "      box-shadow: 0px 1px 3px 1px rgba(0, 0, 0, 0.15);\n",
              "      filter: drop-shadow(0px 1px 2px rgba(0, 0, 0, 0.3));\n",
              "      fill: #FFFFFF;\n",
              "    }\n",
              "  </style>\n",
              "\n",
              "      <script>\n",
              "        const buttonEl =\n",
              "          document.querySelector('#df-b2f3a1f8-a3c9-421f-96de-66970f743238 button.colab-df-convert');\n",
              "        buttonEl.style.display =\n",
              "          google.colab.kernel.accessAllowed ? 'block' : 'none';\n",
              "\n",
              "        async function convertToInteractive(key) {\n",
              "          const element = document.querySelector('#df-b2f3a1f8-a3c9-421f-96de-66970f743238');\n",
              "          const dataTable =\n",
              "            await google.colab.kernel.invokeFunction('convertToInteractive',\n",
              "                                                     [key], {});\n",
              "          if (!dataTable) return;\n",
              "\n",
              "          const docLinkHtml = 'Like what you see? Visit the ' +\n",
              "            '<a target=\"_blank\" href=https://colab.research.google.com/notebooks/data_table.ipynb>data table notebook</a>'\n",
              "            + ' to learn more about interactive tables.';\n",
              "          element.innerHTML = '';\n",
              "          dataTable['output_type'] = 'display_data';\n",
              "          await google.colab.output.renderOutput(dataTable, element);\n",
              "          const docLink = document.createElement('div');\n",
              "          docLink.innerHTML = docLinkHtml;\n",
              "          element.appendChild(docLink);\n",
              "        }\n",
              "      </script>\n",
              "    </div>\n",
              "  </div>\n"
            ],
            "text/plain": [
              "   7  0  0.1  0.2  0.3  0.4  0.5  0.6  0.7  0.8  ...  0.658  0.659  0.660  \\\n",
              "0  2  0    0    0    0    0    0    0    0    0  ...      0      0      0   \n",
              "1  1  0    0    0    0    0    0    0    0    0  ...      0      0      0   \n",
              "2  0  0    0    0    0    0    0    0    0    0  ...      0      0      0   \n",
              "3  4  0    0    0    0    0    0    0    0    0  ...      0      0      0   \n",
              "4  1  0    0    0    0    0    0    0    0    0  ...      0      0      0   \n",
              "\n",
              "   0.661  0.662  0.663  0.664  0.665  0.666  0.667  \n",
              "0      0      0      0      0      0      0      0  \n",
              "1      0      0      0      0      0      0      0  \n",
              "2      0      0      0      0      0      0      0  \n",
              "3      0      0      0      0      0      0      0  \n",
              "4      0      0      0      0      0      0      0  \n",
              "\n",
              "[5 rows x 785 columns]"
            ]
          },
          "execution_count": 46,
          "metadata": {},
          "output_type": "execute_result"
        }
      ],
      "source": [
        "df_mnist_test = pd.DataFrame(data=pd.read_csv(\"../content/sample_data/mnist_test.csv\"))\n",
        "df_mnist_test.head()"
      ]
    },
    {
      "cell_type": "code",
      "execution_count": null,
      "metadata": {
        "colab": {
          "base_uri": "https://localhost:8080/"
        },
        "id": "pTl2X2Q-wT1R",
        "outputId": "617e44e2-9eb3-49ff-b704-698d0f91a9e0"
      },
      "outputs": [
        {
          "name": "stdout",
          "output_type": "stream",
          "text": [
            "313/313 [==============================] - 0s 854us/step\n"
          ]
        },
        {
          "data": {
            "text/plain": [
              "array([[4.20090e-03, 5.17402e-03, 2.96455e-01, 3.03878e-01, 8.04293e-03,\n",
              "        2.52159e-02, 3.22906e-01, 7.34398e-03, 2.29537e-02, 3.83010e-03],\n",
              "       [7.83847e-04, 9.71213e-01, 2.09207e-03, 1.67747e-03, 2.36660e-03,\n",
              "        2.14123e-03, 1.79525e-03, 1.73767e-03, 1.25027e-02, 3.68987e-03],\n",
              "       [9.22901e-01, 9.23057e-04, 1.26196e-02, 5.62160e-03, 6.75974e-03,\n",
              "        1.12174e-02, 1.00753e-02, 3.24117e-03, 9.61425e-03, 1.70268e-02],\n",
              "       [1.24261e-03, 1.07864e-03, 1.09647e-02, 4.16875e-03, 4.74098e-01,\n",
              "        6.29790e-03, 7.49343e-03, 1.73299e-02, 5.59712e-03, 4.71729e-01],\n",
              "       [7.83847e-04, 9.71213e-01, 2.09207e-03, 1.67747e-03, 2.36660e-03,\n",
              "        2.14123e-03, 1.79525e-03, 1.73767e-03, 1.25027e-02, 3.68987e-03]],\n",
              "      dtype=float32)"
            ]
          },
          "execution_count": 47,
          "metadata": {},
          "output_type": "execute_result"
        }
      ],
      "source": [
        "y_pred_sm = model_neuralnet_softmax.predict(x=df_mnist_test.iloc[: , 1: ])\n",
        "y_pred_sm[0:5]"
      ]
    },
    {
      "cell_type": "code",
      "execution_count": null,
      "metadata": {
        "colab": {
          "base_uri": "https://localhost:8080/"
        },
        "id": "g1ZWceG9xqw0",
        "outputId": "7beda26c-25bb-4493-a07c-f2096b9eca6c"
      },
      "outputs": [
        {
          "name": "stdout",
          "output_type": "stream",
          "text": [
            "313/313 [==============================] - 0s 858us/step\n"
          ]
        },
        {
          "data": {
            "text/plain": [
              "array([[0.00000e+00, 1.57045e-20, 1.00000e+00, 1.76345e-22, 0.00000e+00,\n",
              "        0.00000e+00, 0.00000e+00, 0.00000e+00, 0.00000e+00, 0.00000e+00],\n",
              "       [0.00000e+00, 1.00000e+00, 1.19386e-38, 0.00000e+00, 0.00000e+00,\n",
              "        4.09792e-33, 1.19374e-37, 3.86701e-38, 0.00000e+00, 1.26726e-30],\n",
              "       [1.00000e+00, 0.00000e+00, 6.13459e-21, 1.33813e-22, 3.19460e-26,\n",
              "        1.79963e-18, 2.43546e-18, 3.76386e-20, 0.00000e+00, 3.64662e-21],\n",
              "       [0.00000e+00, 1.55309e-09, 1.93920e-13, 9.17151e-20, 9.99697e-01,\n",
              "        2.06399e-18, 3.52792e-17, 2.41105e-07, 0.00000e+00, 3.02807e-04],\n",
              "       [0.00000e+00, 1.00000e+00, 2.25434e-25, 1.37651e-37, 0.00000e+00,\n",
              "        6.72296e-22, 1.26870e-24, 3.70681e-25, 1.11861e-37, 2.57065e-20]],\n",
              "      dtype=float32)"
            ]
          },
          "execution_count": 48,
          "metadata": {},
          "output_type": "execute_result"
        }
      ],
      "source": [
        "y_pred_relu = model_neuralnet_relu.predict(x=df_mnist_test.iloc[ : , 1: ])\n",
        "y_pred_relu[0:5]"
      ]
    },
    {
      "cell_type": "code",
      "execution_count": null,
      "metadata": {
        "colab": {
          "base_uri": "https://localhost:8080/",
          "height": 206
        },
        "id": "nKbFvrNKzFwc",
        "outputId": "9551646e-2d17-47b3-a6dd-728bb82788d6"
      },
      "outputs": [
        {
          "data": {
            "text/html": [
              "\n",
              "\n",
              "  <div id=\"df-5cc8308e-c1ab-4d37-8c8b-5e07f0bdb199\">\n",
              "    <div class=\"colab-df-container\">\n",
              "      <div>\n",
              "<style scoped>\n",
              "    .dataframe tbody tr th:only-of-type {\n",
              "        vertical-align: middle;\n",
              "    }\n",
              "\n",
              "    .dataframe tbody tr th {\n",
              "        vertical-align: top;\n",
              "    }\n",
              "\n",
              "    .dataframe thead th {\n",
              "        text-align: right;\n",
              "    }\n",
              "</style>\n",
              "<table border=\"1\" class=\"dataframe\">\n",
              "  <thead>\n",
              "    <tr style=\"text-align: right;\">\n",
              "      <th></th>\n",
              "      <th>7</th>\n",
              "    </tr>\n",
              "  </thead>\n",
              "  <tbody>\n",
              "    <tr>\n",
              "      <th>0</th>\n",
              "      <td>2</td>\n",
              "    </tr>\n",
              "    <tr>\n",
              "      <th>1</th>\n",
              "      <td>1</td>\n",
              "    </tr>\n",
              "    <tr>\n",
              "      <th>2</th>\n",
              "      <td>0</td>\n",
              "    </tr>\n",
              "    <tr>\n",
              "      <th>3</th>\n",
              "      <td>4</td>\n",
              "    </tr>\n",
              "    <tr>\n",
              "      <th>4</th>\n",
              "      <td>1</td>\n",
              "    </tr>\n",
              "  </tbody>\n",
              "</table>\n",
              "</div>\n",
              "      <button class=\"colab-df-convert\" onclick=\"convertToInteractive('df-5cc8308e-c1ab-4d37-8c8b-5e07f0bdb199')\"\n",
              "              title=\"Convert this dataframe to an interactive table.\"\n",
              "              style=\"display:none;\">\n",
              "\n",
              "  <svg xmlns=\"http://www.w3.org/2000/svg\" height=\"24px\"viewBox=\"0 0 24 24\"\n",
              "       width=\"24px\">\n",
              "    <path d=\"M0 0h24v24H0V0z\" fill=\"none\"/>\n",
              "    <path d=\"M18.56 5.44l.94 2.06.94-2.06 2.06-.94-2.06-.94-.94-2.06-.94 2.06-2.06.94zm-11 1L8.5 8.5l.94-2.06 2.06-.94-2.06-.94L8.5 2.5l-.94 2.06-2.06.94zm10 10l.94 2.06.94-2.06 2.06-.94-2.06-.94-.94-2.06-.94 2.06-2.06.94z\"/><path d=\"M17.41 7.96l-1.37-1.37c-.4-.4-.92-.59-1.43-.59-.52 0-1.04.2-1.43.59L10.3 9.45l-7.72 7.72c-.78.78-.78 2.05 0 2.83L4 21.41c.39.39.9.59 1.41.59.51 0 1.02-.2 1.41-.59l7.78-7.78 2.81-2.81c.8-.78.8-2.07 0-2.86zM5.41 20L4 18.59l7.72-7.72 1.47 1.35L5.41 20z\"/>\n",
              "  </svg>\n",
              "      </button>\n",
              "\n",
              "\n",
              "\n",
              "    <div id=\"df-19294e6e-e0cc-490b-b7b6-8caec65aba0e\">\n",
              "      <button class=\"colab-df-quickchart\" onclick=\"quickchart('df-19294e6e-e0cc-490b-b7b6-8caec65aba0e')\"\n",
              "              title=\"Suggest charts.\"\n",
              "              style=\"display:none;\">\n",
              "\n",
              "<svg xmlns=\"http://www.w3.org/2000/svg\" height=\"24px\"viewBox=\"0 0 24 24\"\n",
              "     width=\"24px\">\n",
              "    <g>\n",
              "        <path d=\"M19 3H5c-1.1 0-2 .9-2 2v14c0 1.1.9 2 2 2h14c1.1 0 2-.9 2-2V5c0-1.1-.9-2-2-2zM9 17H7v-7h2v7zm4 0h-2V7h2v10zm4 0h-2v-4h2v4z\"/>\n",
              "    </g>\n",
              "</svg>\n",
              "      </button>\n",
              "    </div>\n",
              "\n",
              "<style>\n",
              "  .colab-df-quickchart {\n",
              "    background-color: #E8F0FE;\n",
              "    border: none;\n",
              "    border-radius: 50%;\n",
              "    cursor: pointer;\n",
              "    display: none;\n",
              "    fill: #1967D2;\n",
              "    height: 32px;\n",
              "    padding: 0 0 0 0;\n",
              "    width: 32px;\n",
              "  }\n",
              "\n",
              "  .colab-df-quickchart:hover {\n",
              "    background-color: #E2EBFA;\n",
              "    box-shadow: 0px 1px 2px rgba(60, 64, 67, 0.3), 0px 1px 3px 1px rgba(60, 64, 67, 0.15);\n",
              "    fill: #174EA6;\n",
              "  }\n",
              "\n",
              "  [theme=dark] .colab-df-quickchart {\n",
              "    background-color: #3B4455;\n",
              "    fill: #D2E3FC;\n",
              "  }\n",
              "\n",
              "  [theme=dark] .colab-df-quickchart:hover {\n",
              "    background-color: #434B5C;\n",
              "    box-shadow: 0px 1px 3px 1px rgba(0, 0, 0, 0.15);\n",
              "    filter: drop-shadow(0px 1px 2px rgba(0, 0, 0, 0.3));\n",
              "    fill: #FFFFFF;\n",
              "  }\n",
              "</style>\n",
              "\n",
              "    <script>\n",
              "      async function quickchart(key) {\n",
              "        const containerElement = document.querySelector('#' + key);\n",
              "        const charts = await google.colab.kernel.invokeFunction(\n",
              "            'suggestCharts', [key], {});\n",
              "      }\n",
              "    </script>\n",
              "\n",
              "      <script>\n",
              "\n",
              "function displayQuickchartButton(domScope) {\n",
              "  let quickchartButtonEl =\n",
              "    domScope.querySelector('#df-19294e6e-e0cc-490b-b7b6-8caec65aba0e button.colab-df-quickchart');\n",
              "  quickchartButtonEl.style.display =\n",
              "    google.colab.kernel.accessAllowed ? 'block' : 'none';\n",
              "}\n",
              "\n",
              "        displayQuickchartButton(document);\n",
              "      </script>\n",
              "      <style>\n",
              "    .colab-df-container {\n",
              "      display:flex;\n",
              "      flex-wrap:wrap;\n",
              "      gap: 12px;\n",
              "    }\n",
              "\n",
              "    .colab-df-convert {\n",
              "      background-color: #E8F0FE;\n",
              "      border: none;\n",
              "      border-radius: 50%;\n",
              "      cursor: pointer;\n",
              "      display: none;\n",
              "      fill: #1967D2;\n",
              "      height: 32px;\n",
              "      padding: 0 0 0 0;\n",
              "      width: 32px;\n",
              "    }\n",
              "\n",
              "    .colab-df-convert:hover {\n",
              "      background-color: #E2EBFA;\n",
              "      box-shadow: 0px 1px 2px rgba(60, 64, 67, 0.3), 0px 1px 3px 1px rgba(60, 64, 67, 0.15);\n",
              "      fill: #174EA6;\n",
              "    }\n",
              "\n",
              "    [theme=dark] .colab-df-convert {\n",
              "      background-color: #3B4455;\n",
              "      fill: #D2E3FC;\n",
              "    }\n",
              "\n",
              "    [theme=dark] .colab-df-convert:hover {\n",
              "      background-color: #434B5C;\n",
              "      box-shadow: 0px 1px 3px 1px rgba(0, 0, 0, 0.15);\n",
              "      filter: drop-shadow(0px 1px 2px rgba(0, 0, 0, 0.3));\n",
              "      fill: #FFFFFF;\n",
              "    }\n",
              "  </style>\n",
              "\n",
              "      <script>\n",
              "        const buttonEl =\n",
              "          document.querySelector('#df-5cc8308e-c1ab-4d37-8c8b-5e07f0bdb199 button.colab-df-convert');\n",
              "        buttonEl.style.display =\n",
              "          google.colab.kernel.accessAllowed ? 'block' : 'none';\n",
              "\n",
              "        async function convertToInteractive(key) {\n",
              "          const element = document.querySelector('#df-5cc8308e-c1ab-4d37-8c8b-5e07f0bdb199');\n",
              "          const dataTable =\n",
              "            await google.colab.kernel.invokeFunction('convertToInteractive',\n",
              "                                                     [key], {});\n",
              "          if (!dataTable) return;\n",
              "\n",
              "          const docLinkHtml = 'Like what you see? Visit the ' +\n",
              "            '<a target=\"_blank\" href=https://colab.research.google.com/notebooks/data_table.ipynb>data table notebook</a>'\n",
              "            + ' to learn more about interactive tables.';\n",
              "          element.innerHTML = '';\n",
              "          dataTable['output_type'] = 'display_data';\n",
              "          await google.colab.output.renderOutput(dataTable, element);\n",
              "          const docLink = document.createElement('div');\n",
              "          docLink.innerHTML = docLinkHtml;\n",
              "          element.appendChild(docLink);\n",
              "        }\n",
              "      </script>\n",
              "    </div>\n",
              "  </div>\n"
            ],
            "text/plain": [
              "   7\n",
              "0  2\n",
              "1  1\n",
              "2  0\n",
              "3  4\n",
              "4  1"
            ]
          },
          "execution_count": 49,
          "metadata": {},
          "output_type": "execute_result"
        }
      ],
      "source": [
        "df_mnist_test.iloc[ : , 0:1].head()"
      ]
    },
    {
      "cell_type": "markdown",
      "metadata": {
        "id": "uoCLM_zrlzmN"
      },
      "source": [
        "## Recommended Implementation of Softmax Digit Classifier Neural Network"
      ]
    },
    {
      "cell_type": "markdown",
      "metadata": {
        "id": "xJTXuLJvsPpu"
      },
      "source": [
        "Use a linear activation function. This is the input (z) to the Sparse Categorical Cross Entropy function, with will take z values and apply the loss function."
      ]
    },
    {
      "cell_type": "code",
      "execution_count": null,
      "metadata": {
        "colab": {
          "base_uri": "https://localhost:8080/"
        },
        "collapsed": true,
        "id": "YdRwBEauVJgM",
        "outputId": "0ebb3a68-a0fc-4f91-9ad3-1db7755a54d4"
      },
      "outputs": [
        {
          "name": "stdout",
          "output_type": "stream",
          "text": [
            "Epoch 1/128\n",
            "625/625 [==============================] - 1s 1ms/step - loss: 2.2544\n",
            "Epoch 2/128\n",
            "625/625 [==============================] - 1s 1ms/step - loss: 2.0309\n",
            "Epoch 3/128\n",
            "625/625 [==============================] - 1s 2ms/step - loss: 1.7095\n",
            "Epoch 4/128\n",
            "625/625 [==============================] - 1s 1ms/step - loss: 1.4325\n",
            "Epoch 5/128\n",
            "625/625 [==============================] - 1s 1ms/step - loss: 1.2406\n",
            "Epoch 6/128\n",
            "625/625 [==============================] - 1s 1ms/step - loss: 1.1410\n",
            "Epoch 7/128\n",
            "625/625 [==============================] - 1s 1ms/step - loss: 1.1031\n",
            "Epoch 8/128\n",
            "625/625 [==============================] - 1s 1ms/step - loss: 1.0744\n",
            "Epoch 9/128\n",
            "625/625 [==============================] - 1s 1ms/step - loss: 1.0567\n",
            "Epoch 10/128\n",
            "625/625 [==============================] - 1s 1ms/step - loss: 1.0417\n",
            "Epoch 11/128\n",
            "625/625 [==============================] - 1s 1ms/step - loss: 1.0561\n",
            "Epoch 12/128\n",
            "625/625 [==============================] - 1s 1ms/step - loss: 1.0542\n",
            "Epoch 13/128\n",
            "625/625 [==============================] - 1s 1ms/step - loss: 1.0231\n",
            "Epoch 14/128\n",
            "625/625 [==============================] - 1s 1ms/step - loss: 1.0499\n",
            "Epoch 15/128\n",
            "625/625 [==============================] - 1s 1ms/step - loss: 1.0325\n",
            "Epoch 16/128\n",
            "625/625 [==============================] - 1s 1ms/step - loss: 1.0509\n",
            "Epoch 17/128\n",
            "625/625 [==============================] - 1s 1ms/step - loss: 1.0228\n",
            "Epoch 18/128\n",
            "625/625 [==============================] - 1s 2ms/step - loss: 1.0522\n",
            "Epoch 19/128\n",
            "625/625 [==============================] - 1s 1ms/step - loss: 1.0533\n",
            "Epoch 20/128\n",
            "625/625 [==============================] - 1s 1ms/step - loss: 1.0363\n",
            "Epoch 21/128\n",
            "625/625 [==============================] - 1s 1ms/step - loss: 1.0344\n",
            "Epoch 22/128\n",
            "625/625 [==============================] - 1s 1ms/step - loss: 1.0210\n",
            "Epoch 23/128\n",
            "625/625 [==============================] - 1s 1ms/step - loss: 1.0093\n",
            "Epoch 24/128\n",
            "625/625 [==============================] - 1s 1ms/step - loss: 1.0174\n",
            "Epoch 25/128\n",
            "625/625 [==============================] - 1s 1ms/step - loss: 1.0281\n",
            "Epoch 26/128\n",
            "625/625 [==============================] - 1s 1ms/step - loss: 1.0253\n",
            "Epoch 27/128\n",
            "625/625 [==============================] - 1s 1ms/step - loss: 1.0205\n",
            "Epoch 28/128\n",
            "625/625 [==============================] - 1s 1ms/step - loss: 1.0236\n",
            "Epoch 29/128\n",
            "625/625 [==============================] - 1s 1ms/step - loss: 1.0267\n",
            "Epoch 30/128\n",
            "625/625 [==============================] - 1s 1ms/step - loss: 1.0178\n",
            "Epoch 31/128\n",
            "625/625 [==============================] - 1s 1ms/step - loss: 1.0071\n",
            "Epoch 32/128\n",
            "625/625 [==============================] - 1s 1ms/step - loss: 1.0117\n",
            "Epoch 33/128\n",
            "625/625 [==============================] - 1s 2ms/step - loss: 1.0083\n",
            "Epoch 34/128\n",
            "625/625 [==============================] - 1s 1ms/step - loss: 0.9994\n",
            "Epoch 35/128\n",
            "625/625 [==============================] - 1s 2ms/step - loss: 1.0006\n",
            "Epoch 36/128\n",
            "625/625 [==============================] - 1s 1ms/step - loss: 0.9963\n",
            "Epoch 37/128\n",
            "625/625 [==============================] - 1s 2ms/step - loss: 1.0040\n",
            "Epoch 38/128\n",
            "625/625 [==============================] - 1s 2ms/step - loss: 1.0034\n",
            "Epoch 39/128\n",
            "625/625 [==============================] - 1s 1ms/step - loss: 1.0212\n",
            "Epoch 40/128\n",
            "625/625 [==============================] - 1s 1ms/step - loss: 1.0072\n",
            "Epoch 41/128\n",
            "625/625 [==============================] - 1s 1ms/step - loss: 0.9913\n",
            "Epoch 42/128\n",
            "625/625 [==============================] - 1s 1ms/step - loss: 0.9910\n",
            "Epoch 43/128\n",
            "625/625 [==============================] - 1s 1ms/step - loss: 0.9913\n",
            "Epoch 44/128\n",
            "625/625 [==============================] - 1s 1ms/step - loss: 1.0202\n",
            "Epoch 45/128\n",
            "625/625 [==============================] - 1s 1ms/step - loss: 1.0138\n",
            "Epoch 46/128\n",
            "625/625 [==============================] - 1s 2ms/step - loss: 0.9979\n",
            "Epoch 47/128\n",
            "625/625 [==============================] - 1s 2ms/step - loss: 0.9905\n",
            "Epoch 48/128\n",
            "625/625 [==============================] - 1s 1ms/step - loss: 0.9946\n",
            "Epoch 49/128\n",
            "625/625 [==============================] - 1s 1ms/step - loss: 0.9997\n",
            "Epoch 50/128\n",
            "625/625 [==============================] - 1s 1ms/step - loss: 0.9912\n",
            "Epoch 51/128\n",
            "625/625 [==============================] - 1s 1ms/step - loss: 0.9760\n",
            "Epoch 52/128\n",
            "625/625 [==============================] - 1s 1ms/step - loss: 0.9942\n",
            "Epoch 53/128\n",
            "625/625 [==============================] - 1s 1ms/step - loss: 0.9871\n",
            "Epoch 54/128\n",
            "625/625 [==============================] - 1s 1ms/step - loss: 0.9868\n",
            "Epoch 55/128\n",
            "625/625 [==============================] - 1s 1ms/step - loss: 0.9801\n",
            "Epoch 56/128\n",
            "625/625 [==============================] - 1s 1ms/step - loss: 0.9712\n",
            "Epoch 57/128\n",
            "625/625 [==============================] - 1s 1ms/step - loss: 0.9724\n",
            "Epoch 58/128\n",
            "625/625 [==============================] - 1s 1ms/step - loss: 0.9707\n",
            "Epoch 59/128\n",
            "625/625 [==============================] - 1s 1ms/step - loss: 0.9649\n",
            "Epoch 60/128\n",
            "625/625 [==============================] - 1s 2ms/step - loss: 0.9770\n",
            "Epoch 61/128\n",
            "625/625 [==============================] - 1s 2ms/step - loss: 0.9748\n",
            "Epoch 62/128\n",
            "625/625 [==============================] - 1s 1ms/step - loss: 0.9787\n",
            "Epoch 63/128\n",
            "625/625 [==============================] - 1s 1ms/step - loss: 0.9716\n",
            "Epoch 64/128\n",
            "625/625 [==============================] - 1s 1ms/step - loss: 0.9677\n",
            "Epoch 65/128\n",
            "625/625 [==============================] - 1s 1ms/step - loss: 0.9784\n",
            "Epoch 66/128\n",
            "625/625 [==============================] - 1s 1ms/step - loss: 0.9801\n",
            "Epoch 67/128\n",
            "625/625 [==============================] - 1s 1ms/step - loss: 0.9721\n",
            "Epoch 68/128\n",
            "625/625 [==============================] - 1s 1ms/step - loss: 0.9705\n",
            "Epoch 69/128\n",
            "625/625 [==============================] - 1s 1ms/step - loss: 0.9706\n",
            "Epoch 70/128\n",
            "625/625 [==============================] - 1s 1ms/step - loss: 0.9665\n",
            "Epoch 71/128\n",
            "625/625 [==============================] - 1s 1ms/step - loss: 0.9712\n",
            "Epoch 72/128\n",
            "625/625 [==============================] - 1s 1ms/step - loss: 0.9704\n",
            "Epoch 73/128\n",
            "625/625 [==============================] - 1s 1ms/step - loss: 0.9660\n",
            "Epoch 74/128\n",
            "625/625 [==============================] - 1s 1ms/step - loss: 0.9885\n",
            "Epoch 75/128\n",
            "625/625 [==============================] - 1s 2ms/step - loss: 0.9626\n",
            "Epoch 76/128\n",
            "625/625 [==============================] - 1s 1ms/step - loss: 0.9647\n",
            "Epoch 77/128\n",
            "625/625 [==============================] - 1s 1ms/step - loss: 0.9742\n",
            "Epoch 78/128\n",
            "625/625 [==============================] - 1s 1ms/step - loss: 0.9761\n",
            "Epoch 79/128\n",
            "625/625 [==============================] - 1s 1ms/step - loss: 0.9847\n",
            "Epoch 80/128\n",
            "625/625 [==============================] - 1s 1ms/step - loss: 0.9619\n",
            "Epoch 81/128\n",
            "625/625 [==============================] - 1s 1ms/step - loss: 0.9782\n",
            "Epoch 82/128\n",
            "625/625 [==============================] - 1s 1ms/step - loss: 0.9747\n",
            "Epoch 83/128\n",
            "625/625 [==============================] - 1s 1ms/step - loss: 0.9760\n",
            "Epoch 84/128\n",
            "625/625 [==============================] - 1s 1ms/step - loss: 0.9752\n",
            "Epoch 85/128\n",
            "625/625 [==============================] - 1s 1ms/step - loss: 0.9662\n",
            "Epoch 86/128\n",
            "625/625 [==============================] - 1s 1ms/step - loss: 0.9566\n",
            "Epoch 87/128\n",
            "625/625 [==============================] - 1s 1ms/step - loss: 0.9550\n",
            "Epoch 88/128\n",
            "625/625 [==============================] - 1s 1ms/step - loss: 0.9558\n",
            "Epoch 89/128\n",
            "625/625 [==============================] - 1s 2ms/step - loss: 0.9662\n",
            "Epoch 90/128\n",
            "625/625 [==============================] - 1s 1ms/step - loss: 0.9639\n",
            "Epoch 91/128\n",
            "625/625 [==============================] - 1s 1ms/step - loss: 0.9595\n",
            "Epoch 92/128\n",
            "625/625 [==============================] - 1s 1ms/step - loss: 0.9487\n",
            "Epoch 93/128\n",
            "625/625 [==============================] - 1s 1ms/step - loss: 0.9575\n",
            "Epoch 94/128\n",
            "625/625 [==============================] - 1s 1ms/step - loss: 0.9643\n",
            "Epoch 95/128\n",
            "625/625 [==============================] - 1s 1ms/step - loss: 0.9589\n",
            "Epoch 96/128\n",
            "625/625 [==============================] - 1s 1ms/step - loss: 0.9694\n",
            "Epoch 97/128\n",
            "625/625 [==============================] - 1s 1ms/step - loss: 0.9477\n",
            "Epoch 98/128\n",
            "625/625 [==============================] - 1s 1ms/step - loss: 0.9649\n",
            "Epoch 99/128\n",
            "625/625 [==============================] - 1s 1ms/step - loss: 0.9694\n",
            "Epoch 100/128\n",
            "625/625 [==============================] - 1s 1ms/step - loss: 0.9550\n",
            "Epoch 101/128\n",
            "625/625 [==============================] - 1s 1ms/step - loss: 0.9486\n",
            "Epoch 102/128\n",
            "625/625 [==============================] - 1s 1ms/step - loss: 0.9584\n",
            "Epoch 103/128\n",
            "625/625 [==============================] - 1s 2ms/step - loss: 0.9638\n",
            "Epoch 104/128\n",
            "625/625 [==============================] - 1s 1ms/step - loss: 0.9490\n",
            "Epoch 105/128\n",
            "625/625 [==============================] - 1s 1ms/step - loss: 0.9433\n",
            "Epoch 106/128\n",
            "625/625 [==============================] - 1s 1ms/step - loss: 0.9501\n",
            "Epoch 107/128\n",
            "625/625 [==============================] - 1s 1ms/step - loss: 0.9648\n",
            "Epoch 108/128\n",
            "625/625 [==============================] - 1s 1ms/step - loss: 0.9605\n",
            "Epoch 109/128\n",
            "625/625 [==============================] - 1s 1ms/step - loss: 0.9481\n",
            "Epoch 110/128\n",
            "625/625 [==============================] - 1s 1ms/step - loss: 0.9492\n",
            "Epoch 111/128\n",
            "625/625 [==============================] - 1s 1ms/step - loss: 0.9477\n",
            "Epoch 112/128\n",
            "625/625 [==============================] - 1s 1ms/step - loss: 0.9681\n",
            "Epoch 113/128\n",
            "625/625 [==============================] - 1s 1ms/step - loss: 0.9380\n",
            "Epoch 114/128\n",
            "625/625 [==============================] - 1s 1ms/step - loss: 0.9414\n",
            "Epoch 115/128\n",
            "625/625 [==============================] - 1s 1ms/step - loss: 0.9390\n",
            "Epoch 116/128\n",
            "625/625 [==============================] - 1s 1ms/step - loss: 0.9439\n",
            "Epoch 117/128\n",
            "625/625 [==============================] - 1s 2ms/step - loss: 0.9401\n",
            "Epoch 118/128\n",
            "625/625 [==============================] - 1s 2ms/step - loss: 0.9542\n",
            "Epoch 119/128\n",
            "625/625 [==============================] - 1s 1ms/step - loss: 0.9401\n",
            "Epoch 120/128\n",
            "625/625 [==============================] - 1s 1ms/step - loss: 0.9379\n",
            "Epoch 121/128\n",
            "625/625 [==============================] - 1s 1ms/step - loss: 0.9343\n",
            "Epoch 122/128\n",
            "625/625 [==============================] - 1s 1ms/step - loss: 0.9437\n",
            "Epoch 123/128\n",
            "625/625 [==============================] - 1s 1ms/step - loss: 0.9419\n",
            "Epoch 124/128\n",
            "625/625 [==============================] - 1s 1ms/step - loss: 0.9528\n",
            "Epoch 125/128\n",
            "625/625 [==============================] - 1s 1ms/step - loss: 0.9539\n",
            "Epoch 126/128\n",
            "625/625 [==============================] - 1s 1ms/step - loss: 0.9528\n",
            "Epoch 127/128\n",
            "625/625 [==============================] - 1s 1ms/step - loss: 0.9451\n",
            "Epoch 128/128\n",
            "625/625 [==============================] - 1s 1ms/step - loss: 0.9518\n"
          ]
        },
        {
          "data": {
            "text/plain": [
              "<keras.callbacks.History at 0x7850f0f032e0>"
            ]
          },
          "execution_count": 50,
          "metadata": {},
          "output_type": "execute_result"
        }
      ],
      "source": [
        "model_neuralnet_softmax_fromlogits = Sequential([\n",
        "    Dense(units=25, activation=\"softmax\"),\n",
        "    Dense(units=15, activation=\"softmax\"),\n",
        "    Dense(units=10, activation=\"linear\"),\n",
        "])\n",
        "model_neuralnet_softmax_fromlogits.compile(loss=SparseCategoricalCrossentropy(from_logits=True))\n",
        "model_neuralnet_softmax_fromlogits.fit(df_mnist_train_small.iloc[: , 1:], df_mnist_train_small.iloc[: , 0:1], epochs=128)"
      ]
    },
    {
      "cell_type": "code",
      "execution_count": null,
      "metadata": {
        "colab": {
          "base_uri": "https://localhost:8080/"
        },
        "collapsed": true,
        "id": "9ou7R8Mbq-3d",
        "outputId": "9f272eb4-9498-4d12-9dca-f6efb4c17633"
      },
      "outputs": [
        {
          "name": "stdout",
          "output_type": "stream",
          "text": [
            "313/313 [==============================] - 0s 918us/step\n"
          ]
        },
        {
          "data": {
            "text/plain": [
              "array([[-6.09708, -7.54079, -1.9256 , -5.43155, -6.4216 , -6.25328,\n",
              "        -1.73158, -7.26212, -6.23182, -8.10736],\n",
              "       [-9.97325, -2.54858, -9.16281, -9.18023, -8.51398, -9.42647,\n",
              "        -9.67234, -9.05302, -8.14181, -9.18845],\n",
              "       [-2.27404, -7.91402, -5.16354, -2.33255, -7.30065, -2.45445,\n",
              "        -5.90886, -6.75759, -5.10265, -5.67199],\n",
              "       [-5.36014, -6.91368, -4.80385, -5.36641,  0.45363, -4.48229,\n",
              "        -5.06563, -4.525  , -5.09459, -2.41468],\n",
              "       [-9.97325, -2.54858, -9.16281, -9.18023, -8.51398, -9.42647,\n",
              "        -9.67234, -9.05302, -8.14181, -9.18845]], dtype=float32)"
            ]
          },
          "execution_count": 51,
          "metadata": {},
          "output_type": "execute_result"
        }
      ],
      "source": [
        "y_pred_sm_fl = model_neuralnet_softmax_fromlogits.predict(x=df_mnist_test.iloc[: , 1: ])\n",
        "y_pred_sm_fl[0:5]"
      ]
    },
    {
      "cell_type": "code",
      "execution_count": null,
      "metadata": {
        "colab": {
          "base_uri": "https://localhost:8080/"
        },
        "collapsed": true,
        "id": "klkTPKXvtIn0",
        "outputId": "c5b97bd7-7235-4ac2-aac2-296d1b1e78a2"
      },
      "outputs": [
        {
          "name": "stdout",
          "output_type": "stream",
          "text": [
            "Epoch 1/128\n",
            "625/625 [==============================] - 1s 1ms/step - loss: 2.4647\n",
            "Epoch 2/128\n",
            "625/625 [==============================] - 1s 2ms/step - loss: 1.9033\n",
            "Epoch 3/128\n",
            "625/625 [==============================] - 1s 1ms/step - loss: 1.7404\n",
            "Epoch 4/128\n",
            "625/625 [==============================] - 1s 1ms/step - loss: 1.5521\n",
            "Epoch 5/128\n",
            "625/625 [==============================] - 1s 1ms/step - loss: 1.4759\n",
            "Epoch 6/128\n",
            "625/625 [==============================] - 1s 1ms/step - loss: 1.3898\n",
            "Epoch 7/128\n",
            "625/625 [==============================] - 1s 1ms/step - loss: 1.3165\n",
            "Epoch 8/128\n",
            "625/625 [==============================] - 1s 1ms/step - loss: 1.2667\n",
            "Epoch 9/128\n",
            "625/625 [==============================] - 1s 1ms/step - loss: 1.2662\n",
            "Epoch 10/128\n",
            "625/625 [==============================] - 1s 1ms/step - loss: 1.2461\n",
            "Epoch 11/128\n",
            "625/625 [==============================] - 1s 1ms/step - loss: 1.2239\n",
            "Epoch 12/128\n",
            "625/625 [==============================] - 1s 1ms/step - loss: 1.2302\n",
            "Epoch 13/128\n",
            "625/625 [==============================] - 1s 1ms/step - loss: 1.2231\n",
            "Epoch 14/128\n",
            "625/625 [==============================] - 1s 1ms/step - loss: 1.2120\n",
            "Epoch 15/128\n",
            "625/625 [==============================] - 1s 1ms/step - loss: 1.0904\n",
            "Epoch 16/128\n",
            "625/625 [==============================] - 1s 2ms/step - loss: 1.0269\n",
            "Epoch 17/128\n",
            "625/625 [==============================] - 1s 2ms/step - loss: 0.9896\n",
            "Epoch 18/128\n",
            "625/625 [==============================] - 1s 1ms/step - loss: 0.9754\n",
            "Epoch 19/128\n",
            "625/625 [==============================] - 1s 1ms/step - loss: 0.9494\n",
            "Epoch 20/128\n",
            "625/625 [==============================] - 1s 1ms/step - loss: 0.9376\n",
            "Epoch 21/128\n",
            "625/625 [==============================] - 1s 1ms/step - loss: 0.9500\n",
            "Epoch 22/128\n",
            "625/625 [==============================] - 1s 1ms/step - loss: 0.9012\n",
            "Epoch 23/128\n",
            "625/625 [==============================] - 1s 1ms/step - loss: 0.8836\n",
            "Epoch 24/128\n",
            "625/625 [==============================] - 1s 1ms/step - loss: 0.9088\n",
            "Epoch 25/128\n",
            "625/625 [==============================] - 1s 1ms/step - loss: 0.8936\n",
            "Epoch 26/128\n",
            "625/625 [==============================] - 1s 1ms/step - loss: 0.9065\n",
            "Epoch 27/128\n",
            "625/625 [==============================] - 1s 1ms/step - loss: 0.8794\n",
            "Epoch 28/128\n",
            "625/625 [==============================] - 1s 1ms/step - loss: 0.8887\n",
            "Epoch 29/128\n",
            "625/625 [==============================] - 1s 1ms/step - loss: 0.8732\n",
            "Epoch 30/128\n",
            "625/625 [==============================] - 1s 1ms/step - loss: 0.8830\n",
            "Epoch 31/128\n",
            "625/625 [==============================] - 1s 2ms/step - loss: 0.8813\n",
            "Epoch 32/128\n",
            "625/625 [==============================] - 1s 2ms/step - loss: 0.8513\n",
            "Epoch 33/128\n",
            "625/625 [==============================] - 1s 1ms/step - loss: 0.8488\n",
            "Epoch 34/128\n",
            "625/625 [==============================] - 1s 1ms/step - loss: 0.8385\n",
            "Epoch 35/128\n",
            "625/625 [==============================] - 1s 1ms/step - loss: 0.8420\n",
            "Epoch 36/128\n",
            "625/625 [==============================] - 1s 1ms/step - loss: 0.8832\n",
            "Epoch 37/128\n",
            "625/625 [==============================] - 1s 1ms/step - loss: 0.8594\n",
            "Epoch 38/128\n",
            "625/625 [==============================] - 1s 1ms/step - loss: 0.8698\n",
            "Epoch 39/128\n",
            "625/625 [==============================] - 1s 1ms/step - loss: 0.8421\n",
            "Epoch 40/128\n",
            "625/625 [==============================] - 1s 1ms/step - loss: 0.8802\n",
            "Epoch 41/128\n",
            "625/625 [==============================] - 1s 1ms/step - loss: 0.8462\n",
            "Epoch 42/128\n",
            "625/625 [==============================] - 1s 1ms/step - loss: 0.8399\n",
            "Epoch 43/128\n",
            "625/625 [==============================] - 1s 1ms/step - loss: 0.8451\n",
            "Epoch 44/128\n",
            "625/625 [==============================] - 1s 1ms/step - loss: 0.8285\n",
            "Epoch 45/128\n",
            "625/625 [==============================] - 1s 1ms/step - loss: 0.8427\n",
            "Epoch 46/128\n",
            "625/625 [==============================] - 1s 2ms/step - loss: 0.8520\n",
            "Epoch 47/128\n",
            "625/625 [==============================] - 1s 1ms/step - loss: 0.8323\n",
            "Epoch 48/128\n",
            "625/625 [==============================] - 1s 1ms/step - loss: 0.8563\n",
            "Epoch 49/128\n",
            "625/625 [==============================] - 1s 1ms/step - loss: 0.8841\n",
            "Epoch 50/128\n",
            "625/625 [==============================] - 1s 1ms/step - loss: 0.8946\n",
            "Epoch 51/128\n",
            "625/625 [==============================] - 1s 1ms/step - loss: 0.8549\n",
            "Epoch 52/128\n",
            "625/625 [==============================] - 1s 1ms/step - loss: 0.8590\n",
            "Epoch 53/128\n",
            "625/625 [==============================] - 1s 1ms/step - loss: 0.8602\n",
            "Epoch 54/128\n",
            "625/625 [==============================] - 1s 1ms/step - loss: 0.8828\n",
            "Epoch 55/128\n",
            "625/625 [==============================] - 1s 1ms/step - loss: 0.8972\n",
            "Epoch 56/128\n",
            "625/625 [==============================] - 1s 1ms/step - loss: 0.8825\n",
            "Epoch 57/128\n",
            "625/625 [==============================] - 1s 1ms/step - loss: 0.8625\n",
            "Epoch 58/128\n",
            "625/625 [==============================] - 1s 1ms/step - loss: 0.9135\n",
            "Epoch 59/128\n",
            "625/625 [==============================] - 1s 1ms/step - loss: 0.9135\n",
            "Epoch 60/128\n",
            "625/625 [==============================] - 1s 2ms/step - loss: 0.9160\n",
            "Epoch 61/128\n",
            "625/625 [==============================] - 1s 2ms/step - loss: 0.9434\n",
            "Epoch 62/128\n",
            "625/625 [==============================] - 1s 1ms/step - loss: 0.8967\n",
            "Epoch 63/128\n",
            "625/625 [==============================] - 1s 1ms/step - loss: 0.8867\n",
            "Epoch 64/128\n",
            "625/625 [==============================] - 1s 1ms/step - loss: 0.9011\n",
            "Epoch 65/128\n",
            "625/625 [==============================] - 1s 1ms/step - loss: 0.9247\n",
            "Epoch 66/128\n",
            "625/625 [==============================] - 1s 1ms/step - loss: 0.9808\n",
            "Epoch 67/128\n",
            "625/625 [==============================] - 1s 1ms/step - loss: 0.9535\n",
            "Epoch 68/128\n",
            "625/625 [==============================] - 1s 1ms/step - loss: 1.0254\n",
            "Epoch 69/128\n",
            "625/625 [==============================] - 1s 1ms/step - loss: 0.9836\n",
            "Epoch 70/128\n",
            "625/625 [==============================] - 1s 1ms/step - loss: 1.0223\n",
            "Epoch 71/128\n",
            "625/625 [==============================] - 1s 1ms/step - loss: 1.0061\n",
            "Epoch 72/128\n",
            "625/625 [==============================] - 1s 2ms/step - loss: 0.9974\n",
            "Epoch 73/128\n",
            "625/625 [==============================] - 1s 2ms/step - loss: 0.9797\n",
            "Epoch 74/128\n",
            "625/625 [==============================] - 1s 2ms/step - loss: 0.9778\n",
            "Epoch 75/128\n",
            "625/625 [==============================] - 1s 2ms/step - loss: 1.0225\n",
            "Epoch 76/128\n",
            "625/625 [==============================] - 1s 1ms/step - loss: 0.9610\n",
            "Epoch 77/128\n",
            "625/625 [==============================] - 1s 1ms/step - loss: 0.9909\n",
            "Epoch 78/128\n",
            "625/625 [==============================] - 1s 1ms/step - loss: 1.0091\n",
            "Epoch 79/128\n",
            "625/625 [==============================] - 1s 1ms/step - loss: 1.0380\n",
            "Epoch 80/128\n",
            "625/625 [==============================] - 1s 1ms/step - loss: 1.0011\n",
            "Epoch 81/128\n",
            "625/625 [==============================] - 1s 1ms/step - loss: 1.0314\n",
            "Epoch 82/128\n",
            "625/625 [==============================] - 1s 1ms/step - loss: 1.0635\n",
            "Epoch 83/128\n",
            "625/625 [==============================] - 1s 1ms/step - loss: 0.9809\n",
            "Epoch 84/128\n",
            "625/625 [==============================] - 1s 1ms/step - loss: 0.9820\n",
            "Epoch 85/128\n",
            "625/625 [==============================] - 1s 1ms/step - loss: 0.9364\n",
            "Epoch 86/128\n",
            "625/625 [==============================] - 1s 1ms/step - loss: 0.9213\n",
            "Epoch 87/128\n",
            "625/625 [==============================] - 1s 1ms/step - loss: 0.9005\n",
            "Epoch 88/128\n",
            "625/625 [==============================] - 1s 1ms/step - loss: 0.9006\n",
            "Epoch 89/128\n",
            "625/625 [==============================] - 1s 2ms/step - loss: 0.9055\n",
            "Epoch 90/128\n",
            "625/625 [==============================] - 1s 1ms/step - loss: 0.9094\n",
            "Epoch 91/128\n",
            "625/625 [==============================] - 1s 1ms/step - loss: 0.9120\n",
            "Epoch 92/128\n",
            "625/625 [==============================] - 1s 1ms/step - loss: 0.9073\n",
            "Epoch 93/128\n",
            "625/625 [==============================] - 1s 1ms/step - loss: 0.9007\n",
            "Epoch 94/128\n",
            "625/625 [==============================] - 1s 1ms/step - loss: 0.9170\n",
            "Epoch 95/128\n",
            "625/625 [==============================] - 1s 1ms/step - loss: 0.9159\n",
            "Epoch 96/128\n",
            "625/625 [==============================] - 1s 1ms/step - loss: 0.8628\n",
            "Epoch 97/128\n",
            "625/625 [==============================] - 1s 1ms/step - loss: 0.9020\n",
            "Epoch 98/128\n",
            "625/625 [==============================] - 1s 1ms/step - loss: 0.8840\n",
            "Epoch 99/128\n",
            "625/625 [==============================] - 1s 1ms/step - loss: 0.9318\n",
            "Epoch 100/128\n",
            "625/625 [==============================] - 1s 1ms/step - loss: 0.8567\n",
            "Epoch 101/128\n",
            "625/625 [==============================] - 1s 1ms/step - loss: 0.8966\n",
            "Epoch 102/128\n",
            "625/625 [==============================] - 1s 1ms/step - loss: 0.9156\n",
            "Epoch 103/128\n",
            "625/625 [==============================] - 1s 2ms/step - loss: 0.8850\n",
            "Epoch 104/128\n",
            "625/625 [==============================] - 1s 2ms/step - loss: 0.8517\n",
            "Epoch 105/128\n",
            "625/625 [==============================] - 1s 1ms/step - loss: 0.9589\n",
            "Epoch 106/128\n",
            "625/625 [==============================] - 1s 1ms/step - loss: 0.8644\n",
            "Epoch 107/128\n",
            "625/625 [==============================] - 1s 1ms/step - loss: 0.8685\n",
            "Epoch 108/128\n",
            "625/625 [==============================] - 1s 1ms/step - loss: 0.8807\n",
            "Epoch 109/128\n",
            "625/625 [==============================] - 1s 1ms/step - loss: 0.9177\n",
            "Epoch 110/128\n",
            "625/625 [==============================] - 1s 1ms/step - loss: 0.8526\n",
            "Epoch 111/128\n",
            "625/625 [==============================] - 1s 1ms/step - loss: 0.9470\n",
            "Epoch 112/128\n",
            "625/625 [==============================] - 1s 1ms/step - loss: 0.8919\n",
            "Epoch 113/128\n",
            "625/625 [==============================] - 1s 1ms/step - loss: 0.8799\n",
            "Epoch 114/128\n",
            "625/625 [==============================] - 1s 1ms/step - loss: 0.8616\n",
            "Epoch 115/128\n",
            "625/625 [==============================] - 1s 1ms/step - loss: 0.8693\n",
            "Epoch 116/128\n",
            "625/625 [==============================] - 1s 1ms/step - loss: 0.8849\n",
            "Epoch 117/128\n",
            "625/625 [==============================] - 1s 1ms/step - loss: 0.9026\n",
            "Epoch 118/128\n",
            "625/625 [==============================] - 1s 2ms/step - loss: 0.8803\n",
            "Epoch 119/128\n",
            "625/625 [==============================] - 1s 1ms/step - loss: 0.8681\n",
            "Epoch 120/128\n",
            "625/625 [==============================] - 1s 1ms/step - loss: 0.8622\n",
            "Epoch 121/128\n",
            "625/625 [==============================] - 1s 1ms/step - loss: 0.9104\n",
            "Epoch 122/128\n",
            "625/625 [==============================] - 1s 1ms/step - loss: 0.8716\n",
            "Epoch 123/128\n",
            "625/625 [==============================] - 1s 1ms/step - loss: 0.9275\n",
            "Epoch 124/128\n",
            "625/625 [==============================] - 1s 1ms/step - loss: 0.8483\n",
            "Epoch 125/128\n",
            "625/625 [==============================] - 1s 1ms/step - loss: 0.9033\n",
            "Epoch 126/128\n",
            "625/625 [==============================] - 1s 1ms/step - loss: 0.9017\n",
            "Epoch 127/128\n",
            "625/625 [==============================] - 1s 1ms/step - loss: 0.9162\n",
            "Epoch 128/128\n",
            "625/625 [==============================] - 1s 1ms/step - loss: 0.9117\n"
          ]
        },
        {
          "data": {
            "text/plain": [
              "<keras.callbacks.History at 0x7850f0efc280>"
            ]
          },
          "execution_count": 52,
          "metadata": {},
          "output_type": "execute_result"
        }
      ],
      "source": [
        "model_neuralnet_relu_fromlogits = Sequential([\n",
        "    Dense(units=25, activation=\"relu\"),\n",
        "    Dense(units=15, activation=\"relu\"),\n",
        "    Dense(units=10, activation=\"linear\"),\n",
        "])\n",
        "model_neuralnet_relu_fromlogits.compile(loss=SparseCategoricalCrossentropy(from_logits=True))\n",
        "model_neuralnet_relu_fromlogits.fit(df_mnist_train_small.iloc[: , 1:], df_mnist_train_small.iloc[: , 0:1], epochs=128)"
      ]
    },
    {
      "cell_type": "code",
      "execution_count": null,
      "metadata": {
        "colab": {
          "base_uri": "https://localhost:8080/"
        },
        "id": "h-tuSf-OuBI-",
        "outputId": "4d462ad0-66ea-480d-9905-741fd8d284b1"
      },
      "outputs": [
        {
          "name": "stdout",
          "output_type": "stream",
          "text": [
            "313/313 [==============================] - 0s 915us/step\n"
          ]
        },
        {
          "data": {
            "text/plain": [
              "array([[-6.09708, -7.54079, -1.9256 , -5.43155, -6.4216 , -6.25328,\n",
              "        -1.73158, -7.26212, -6.23182, -8.10736],\n",
              "       [-9.97325, -2.54858, -9.16281, -9.18023, -8.51398, -9.42647,\n",
              "        -9.67234, -9.05302, -8.14181, -9.18845],\n",
              "       [-2.27404, -7.91402, -5.16354, -2.33255, -7.30065, -2.45445,\n",
              "        -5.90886, -6.75759, -5.10265, -5.67199],\n",
              "       [-5.36014, -6.91368, -4.80385, -5.36641,  0.45363, -4.48229,\n",
              "        -5.06563, -4.525  , -5.09459, -2.41468],\n",
              "       [-9.97325, -2.54858, -9.16281, -9.18023, -8.51398, -9.42647,\n",
              "        -9.67234, -9.05302, -8.14181, -9.18845]], dtype=float32)"
            ]
          },
          "execution_count": 64,
          "metadata": {},
          "output_type": "execute_result"
        }
      ],
      "source": [
        "y_pred_relu_fl = model_neuralnet_relu_fromlogits.predict(x=df_mnist_test.iloc[: , 1: ])\n",
        "y_pred_sm_fl[0:5]"
      ]
    },
    {
      "cell_type": "markdown",
      "metadata": {
        "id": "reMqpqJAviw-"
      },
      "source": [
        "Softmax Activations:\n",
        "Lowest without Logits: ~0.95. Lowest using Logits: ~0.87\n",
        "\n",
        "ReLU with a Softmax output layer:\n",
        "Lowest without Logits: ~0.86. Lowest using Logits: ~0.82."
      ]
    },
    {
      "cell_type": "markdown",
      "metadata": {
        "id": "UThzryM7wHLz"
      },
      "source": [
        "## Compare Model Accuracy"
      ]
    },
    {
      "cell_type": "code",
      "execution_count": null,
      "metadata": {
        "id": "gG2ZHAdfwHax"
      },
      "outputs": [],
      "source": [
        "from sklearn.metrics import balanced_accuracy_score"
      ]
    },
    {
      "cell_type": "markdown",
      "metadata": {
        "id": "p4F4gvWtyKi8"
      },
      "source": [
        "The predictions are arrays of arrays. Each first-level array gives a list of probabilities that the input matches a certain label. These have to be translated into predicted integer values for the balanced accuracy scorer to work."
      ]
    },
    {
      "cell_type": "markdown",
      "metadata": {
        "id": "n9MaEujnAB4d"
      },
      "source": [
        "## Intuition for Derivatives"
      ]
    },
    {
      "cell_type": "markdown",
      "metadata": {
        "id": "bCbEuzuEBed4"
      },
      "source": [
        "### Exponent Rule of Derivatives."
      ]
    },
    {
      "cell_type": "code",
      "execution_count": null,
      "metadata": {
        "id": "wj0QDUlfweTx"
      },
      "outputs": [],
      "source": [
        "import sympy"
      ]
    },
    {
      "cell_type": "code",
      "execution_count": null,
      "metadata": {
        "id": "Ift8QuGtAIhv"
      },
      "outputs": [],
      "source": [
        "J, w = sympy.symbols('J, w')"
      ]
    },
    {
      "cell_type": "code",
      "execution_count": null,
      "metadata": {
        "colab": {
          "base_uri": "https://localhost:8080/",
          "height": 38
        },
        "id": "QeelB1T_AR2x",
        "outputId": "fa9b1bc4-5a79-4a84-d188-3c31ae565bff"
      },
      "outputs": [
        {
          "data": {
            "text/latex": [
              "$\\displaystyle w^{2}$"
            ],
            "text/plain": [
              "w**2"
            ]
          },
          "execution_count": 185,
          "metadata": {},
          "output_type": "execute_result"
        }
      ],
      "source": [
        "J = w ** 2\n",
        "J"
      ]
    },
    {
      "cell_type": "code",
      "execution_count": null,
      "metadata": {
        "id": "oA61cdFsAeq7"
      },
      "outputs": [],
      "source": [
        "dJ_dw = sympy.diff(J, w)"
      ]
    },
    {
      "cell_type": "code",
      "execution_count": null,
      "metadata": {
        "colab": {
          "base_uri": "https://localhost:8080/",
          "height": 38
        },
        "id": "jaFt6BGHA_VA",
        "outputId": "3a80c445-0a94-4509-d53e-6e0b40c302cc"
      },
      "outputs": [
        {
          "data": {
            "text/latex": [
              "$\\displaystyle 2 w$"
            ],
            "text/plain": [
              "2*w"
            ]
          },
          "execution_count": 187,
          "metadata": {},
          "output_type": "execute_result"
        }
      ],
      "source": [
        "dJ_dw"
      ]
    },
    {
      "cell_type": "code",
      "execution_count": null,
      "metadata": {
        "colab": {
          "base_uri": "https://localhost:8080/",
          "height": 37
        },
        "id": "F0Prp-owBDGR",
        "outputId": "cf910f16-daf7-44e4-a146-e80a3009b069"
      },
      "outputs": [
        {
          "data": {
            "text/latex": [
              "$\\displaystyle 4$"
            ],
            "text/plain": [
              "4"
            ]
          },
          "execution_count": 188,
          "metadata": {},
          "output_type": "execute_result"
        }
      ],
      "source": [
        "dJ_dw.subs([(w, 2)])"
      ]
    },
    {
      "cell_type": "code",
      "execution_count": null,
      "metadata": {
        "colab": {
          "base_uri": "https://localhost:8080/",
          "height": 38
        },
        "id": "ZnzlduYDBOsT",
        "outputId": "45892e53-e809-406b-d4ff-f0669e37151d"
      },
      "outputs": [
        {
          "data": {
            "text/latex": [
              "$\\displaystyle 3 w^{2}$"
            ],
            "text/plain": [
              "3*w**2"
            ]
          },
          "execution_count": 189,
          "metadata": {},
          "output_type": "execute_result"
        }
      ],
      "source": [
        "J = w ** 3\n",
        "dJ_dw = sympy.diff(J, w)\n",
        "dJ_dw"
      ]
    },
    {
      "cell_type": "code",
      "execution_count": null,
      "metadata": {
        "colab": {
          "base_uri": "https://localhost:8080/",
          "height": 37
        },
        "id": "pf1MgPLSB7tC",
        "outputId": "9029b2e9-658c-4fc1-c0af-6b46ac7a3de8"
      },
      "outputs": [
        {
          "data": {
            "text/latex": [
              "$\\displaystyle 12$"
            ],
            "text/plain": [
              "12"
            ]
          },
          "execution_count": 190,
          "metadata": {},
          "output_type": "execute_result"
        }
      ],
      "source": [
        "dJ_dw.subs([(w, 2)])"
      ]
    },
    {
      "cell_type": "markdown",
      "metadata": {
        "id": "3yzxVjkOUodV"
      },
      "source": [
        "## L2 Norm/Euclidean Distance of Vectors\n",
        "Comparing the L2 Norm of a separately approximated and actual calculated derivative vector can be used to tell if your model is miscalculating derivatives."
      ]
    },
    {
      "cell_type": "code",
      "execution_count": null,
      "metadata": {
        "id": "02wQZ-ssWTeA"
      },
      "outputs": [],
      "source": [
        "from numpy import array\n",
        "from numpy.linalg import norm"
      ]
    },
    {
      "cell_type": "code",
      "execution_count": null,
      "metadata": {
        "colab": {
          "base_uri": "https://localhost:8080/"
        },
        "id": "T0GJf6mSBUpD",
        "outputId": "a17cf63a-fb56-4c29-e694-3a2e2e5fb077"
      },
      "outputs": [
        {
          "name": "stdout",
          "output_type": "stream",
          "text": [
            "0.30151134457776363\n"
          ]
        }
      ],
      "source": [
        "arr_appr = array([-1, -2, 3, 4, 5])\n",
        "arr_calc = array([1, 2, 3, 4, 5])\n",
        "norml2_appr = norm(arr_appr, 2)\n",
        "norml2_calc = norm(arr_calc, 2)\n",
        "grad_diff = norm((arr_appr - arr_calc), 2)/(norml2_appr + norml2_calc)\n",
        "print(grad_diff)"
      ]
    },
    {
      "cell_type": "code",
      "execution_count": null,
      "metadata": {
        "colab": {
          "base_uri": "https://localhost:8080/"
        },
        "id": "GJeQzQRZVwoI",
        "outputId": "b20d038c-10e2-4dd2-ab9e-bf563fb1cf06"
      },
      "outputs": [
        {
          "name": "stdout",
          "output_type": "stream",
          "text": [
            "0.6571287406727708\n"
          ]
        }
      ],
      "source": [
        "norml2_appr = norm(arr_appr, 2)\n",
        "norml2_calc = norm(arr_calc, 2)\n",
        "grad_diff = norm((arr_appr - (arr_calc * 2)), 2)/(norml2_appr + norml2_calc)\n",
        "print(grad_diff)"
      ]
    },
    {
      "cell_type": "markdown",
      "metadata": {
        "id": "gtmrGPgsLj52"
      },
      "source": [
        "## Introduction to TensorFlow"
      ]
    },
    {
      "cell_type": "code",
      "execution_count": null,
      "metadata": {
        "id": "uhR17Fh3V9wz"
      },
      "outputs": [],
      "source": [
        "w = tf.Variable(0, dtype=tf.float32)"
      ]
    },
    {
      "cell_type": "code",
      "execution_count": null,
      "metadata": {
        "id": "5FVfXl4NORaE"
      },
      "outputs": [],
      "source": [
        "from tensorflow.python.ops.variables import trainable_variables\n",
        "optimizer = tf.keras.optimizers.Adam(0.1)\n",
        "\n",
        "@tf.function\n",
        "def train_step():\n",
        "  with tf.GradientTape()  as tape:\n",
        "    cost = w**2 - 10 * w + 25\n",
        "  trainable_vars = [w]\n",
        "  grads = tape.gradient(cost, trainable_vars)\n",
        "  optimizer.apply_gradients(zip(grads, trainable_vars))"
      ]
    },
    {
      "cell_type": "code",
      "execution_count": null,
      "metadata": {
        "colab": {
          "base_uri": "https://localhost:8080/"
        },
        "id": "EHQcftzBOfgk",
        "outputId": "bf6ac3e9-bad5-4645-9b65-3f7eddce1096"
      },
      "outputs": [
        {
          "name": "stdout",
          "output_type": "stream",
          "text": [
            "<tf.Variable 'Variable:0' shape=() dtype=float32, numpy=0.0>\n",
            "<tf.Variable 'Variable:0' shape=() dtype=float32, numpy=0.09999931>\n"
          ]
        }
      ],
      "source": [
        "print(w)\n",
        "train_step()\n",
        "print(w)"
      ]
    },
    {
      "cell_type": "code",
      "execution_count": null,
      "metadata": {
        "colab": {
          "base_uri": "https://localhost:8080/"
        },
        "id": "OSjZNy-8QbSb",
        "outputId": "c9cdda74-44c3-4891-f15e-fa95ed876a77"
      },
      "outputs": [
        {
          "name": "stdout",
          "output_type": "stream",
          "text": [
            "<tf.Variable 'Variable:0' shape=() dtype=float32, numpy=4.6682186>\n"
          ]
        }
      ],
      "source": [
        "for i in range(64):\n",
        "  train_step()\n",
        "print(w)"
      ]
    },
    {
      "cell_type": "code",
      "execution_count": null,
      "metadata": {
        "colab": {
          "base_uri": "https://localhost:8080/"
        },
        "id": "m8vxpVOEQJg_",
        "outputId": "586fa68c-b592-4271-eb0e-8d1a064102b0"
      },
      "outputs": [
        {
          "name": "stdout",
          "output_type": "stream",
          "text": [
            "<tf.Variable 'Variable:0' shape=() dtype=float32, numpy=5.0000014>\n"
          ]
        }
      ],
      "source": [
        "for i in range(512):\n",
        "  train_step()\n",
        "print(w)"
      ]
    },
    {
      "cell_type": "markdown",
      "metadata": {
        "id": "3yA64jsTRnnp"
      },
      "source": [
        "### TensorFlow with Input Array x and Parameter w\n",
        "The optimizer has to be initialized again to avoid errors."
      ]
    },
    {
      "cell_type": "code",
      "execution_count": null,
      "metadata": {
        "id": "b5zn4jubQUkI"
      },
      "outputs": [],
      "source": [
        "optimizer = tf.keras.optimizers.Adam(0.1)\n",
        "w = tf.Variable(0, dtype=tf.float32)\n",
        "x = np.array([1, -10, 25], dtype = np.float32)\n",
        "\n",
        "@tf.function\n",
        "def training(x, w, optimizer, epochs = 512):\n",
        "  def cost_fn():\n",
        "    return x[0] * w**2 + x[1] * w + x[2]\n",
        "  for i in range(epochs):\n",
        "    optimizer.minimize(cost_fn, [w])\n",
        "  print(w)\n",
        "  return w"
      ]
    },
    {
      "cell_type": "code",
      "execution_count": null,
      "metadata": {
        "colab": {
          "base_uri": "https://localhost:8080/"
        },
        "id": "Vjkl-fV_SFBc",
        "outputId": "7d7444be-71db-47cf-9607-038d6f67163b"
      },
      "outputs": [
        {
          "name": "stdout",
          "output_type": "stream",
          "text": [
            "<tf.Variable 'Variable:0' shape=() dtype=float32, numpy=0.0>\n",
            "<tf.Variable 'Variable:0' shape=() dtype=float32, numpy=5.0000014>\n"
          ]
        }
      ],
      "source": [
        "print(w)\n",
        "w = training(x, w, optimizer)"
      ]
    },
    {
      "cell_type": "markdown",
      "metadata": {
        "id": "PCzs-GjjBjOH"
      },
      "source": [
        "## Distribution Strategies"
      ]
    },
    {
      "cell_type": "markdown",
      "metadata": {
        "id": "AzcRsZ9TBroN"
      },
      "source": [
        "### Mirrored Strategy\n",
        "- One replica per device is trained. The replicas train in parallel. Parameters will be synchronized after every forward pass. The synchornization is done using \"an all-reduce algorithm.\"\n",
        "\n",
        "- As of August 2023, only Nvidia GPUs are supported. Synchronization is done using NVIDIA NCCL."
      ]
    },
    {
      "cell_type": "code",
      "execution_count": null,
      "metadata": {
        "id": "w841Ir4SBgbh"
      },
      "outputs": [],
      "source": [
        "tfds.disable_progress_bar()\n",
        "\n",
        "import os"
      ]
    },
    {
      "cell_type": "code",
      "execution_count": null,
      "metadata": {
        "id": "Xe5lJ-ujBhGu"
      },
      "outputs": [],
      "source": [
        "datasets, info = tfds.load(name='mnist', with_info=True, as_supervised=True)\n",
        "mnist_train, mnist_test = datasets['train'], datasets['test']"
      ]
    },
    {
      "cell_type": "code",
      "execution_count": null,
      "metadata": {
        "colab": {
          "base_uri": "https://localhost:8080/"
        },
        "id": "A63-lJ1ACNVj",
        "outputId": "e31dbdcf-ed4a-4487-d4c8-dbcf93a14caa"
      },
      "outputs": [
        {
          "name": "stderr",
          "output_type": "stream",
          "text": [
            "WARNING:tensorflow:There are non-GPU devices in `tf.distribute.Strategy`, not using nccl allreduce.\n"
          ]
        },
        {
          "name": "stdout",
          "output_type": "stream",
          "text": [
            "Device count: 1\n"
          ]
        }
      ],
      "source": [
        "strategy = tf.distribute.MirroredStrategy()\n",
        "# When using GPUs of a different model, enable and account for cross-device operations.\n",
        "# strategy = tf.distribute.MirroredStrategy(cross_device_ops=tf.distribute.HierarchicalCopyAllReduce())\n",
        "print(f\"Device count: {strategy.num_replicas_in_sync}\")"
      ]
    },
    {
      "cell_type": "code",
      "execution_count": null,
      "metadata": {
        "id": "4JJ4zTT3Ct54"
      },
      "outputs": [],
      "source": [
        "# Buffer size equivalent to 2^14\n",
        "BUFFER_SIZE = 16384\n",
        "BATCH_SIZE_PER_REPLICA = 512\n",
        "BATCH_SIZE = BATCH_SIZE_PER_REPLICA * strategy.num_replicas_in_sync\n",
        "# Set the minimum number of cores required for a GPU to be included in the replications.\n",
        "os.environ['TF_MIN_GPU_MULTIPROCESSOR_COUNT'] = '2'"
      ]
    },
    {
      "cell_type": "code",
      "execution_count": null,
      "metadata": {
        "id": "d_x6QSlYD4mS"
      },
      "outputs": [],
      "source": [
        "# For data scaling, not relevant to distribution.\n",
        "@tf.function\n",
        "def scale(image, label):\n",
        "  image = tf.cast(image, tf.float32)\n",
        "  image /= 255\n",
        "\n",
        "  return image, label"
      ]
    },
    {
      "cell_type": "code",
      "execution_count": null,
      "metadata": {
        "id": "QfxCO1alEWPm"
      },
      "outputs": [],
      "source": [
        "train_data = mnist_train.map(scale).cache().shuffle(BUFFER_SIZE).batch(BATCH_SIZE)\n",
        "eval_data = mnist_test.map(scale).batch(BATCH_SIZE)"
      ]
    },
    {
      "cell_type": "code",
      "execution_count": null,
      "metadata": {
        "id": "drAc8N6TFH-H"
      },
      "outputs": [],
      "source": [
        "# Define model within scope of strategy.scope()\n",
        "with strategy.scope():\n",
        "  model = tf.keras.Sequential([\n",
        "      tf.keras.layers.Conv2D(32, 3, activation='relu', input_shape=(28, 28, 1)),\n",
        "      tf.keras.layers.MaxPooling2D(),\n",
        "      tf.keras.layers.Flatten(),\n",
        "      tf.keras.layers.Dense(64, activation='relu'),\n",
        "      tf.keras.layers.Dense(10)\n",
        "  ])\n"
      ]
    },
    {
      "cell_type": "code",
      "execution_count": null,
      "metadata": {
        "colab": {
          "base_uri": "https://localhost:8080/"
        },
        "id": "5dqSZmYhFTRs",
        "outputId": "fc3229f8-e447-4c0c-9066-21b4f5b9bbae"
      },
      "outputs": [
        {
          "name": "stdout",
          "output_type": "stream",
          "text": [
            "Epoch 1/16\n",
            "118/118 [==============================] - 37s 284ms/step - loss: 0.4299 - accuracy: 0.8851\n",
            "Epoch 2/16\n",
            "118/118 [==============================] - 31s 263ms/step - loss: 0.1541 - accuracy: 0.9557\n",
            "Epoch 3/16\n",
            "118/118 [==============================] - 30s 250ms/step - loss: 0.1052 - accuracy: 0.9704\n",
            "Epoch 4/16\n",
            "118/118 [==============================] - 29s 245ms/step - loss: 0.0780 - accuracy: 0.9786\n",
            "Epoch 5/16\n",
            "118/118 [==============================] - 29s 249ms/step - loss: 0.0639 - accuracy: 0.9822\n",
            "Epoch 6/16\n",
            "118/118 [==============================] - 29s 249ms/step - loss: 0.0564 - accuracy: 0.9837\n",
            "Epoch 7/16\n",
            "118/118 [==============================] - 29s 247ms/step - loss: 0.0462 - accuracy: 0.9868\n",
            "Epoch 8/16\n",
            "118/118 [==============================] - 30s 251ms/step - loss: 0.0388 - accuracy: 0.9887\n",
            "Epoch 9/16\n",
            "118/118 [==============================] - 29s 248ms/step - loss: 0.0362 - accuracy: 0.9894\n",
            "Epoch 10/16\n",
            "118/118 [==============================] - 40s 338ms/step - loss: 0.0313 - accuracy: 0.9916\n",
            "Epoch 11/16\n",
            "118/118 [==============================] - 30s 252ms/step - loss: 0.0277 - accuracy: 0.9920\n",
            "Epoch 12/16\n",
            "118/118 [==============================] - 30s 253ms/step - loss: 0.0244 - accuracy: 0.9933\n",
            "Epoch 13/16\n",
            "118/118 [==============================] - 34s 289ms/step - loss: 0.0222 - accuracy: 0.9940\n",
            "Epoch 14/16\n",
            "118/118 [==============================] - 29s 248ms/step - loss: 0.0190 - accuracy: 0.9952\n",
            "Epoch 15/16\n",
            "118/118 [==============================] - 31s 262ms/step - loss: 0.0158 - accuracy: 0.9960\n",
            "Epoch 16/16\n",
            "118/118 [==============================] - 30s 251ms/step - loss: 0.0144 - accuracy: 0.9965\n"
          ]
        },
        {
          "data": {
            "text/plain": [
              "<keras.callbacks.History at 0x7f89b17efb80>"
            ]
          },
          "execution_count": 47,
          "metadata": {},
          "output_type": "execute_result"
        }
      ],
      "source": [
        "model.compile(\n",
        "    loss=tf.keras.losses.SparseCategoricalCrossentropy(from_logits=True),\n",
        "    optimizer=tf.keras.optimizers.Adam(),\n",
        "    metrics=['accuracy']\n",
        ")\n",
        "\n",
        "model.fit(train_data, epochs=16)"
      ]
    },
    {
      "cell_type": "markdown",
      "metadata": {
        "id": "fxzW1j0xTmpe"
      },
      "source": [
        "### TPU Strategy\n",
        "TPUs are chips made for machine learning and are often slightly cheaper than other chip types. In Collab, make sure to change your runtime environment hardware to a TPU before using this strategy."
      ]
    },
    {
      "cell_type": "code",
      "execution_count": null,
      "metadata": {
        "colab": {
          "base_uri": "https://localhost:8080/"
        },
        "id": "weAdv8IpHBFr",
        "outputId": "32854f98-6f58-4a89-98a7-6700ede0c3f0"
      },
      "outputs": [
        {
          "name": "stdout",
          "output_type": "stream",
          "text": [
            "Running on TPU worker: ['10.124.238.154:8470']\n",
            "Number of accelerators:  8\n"
          ]
        }
      ],
      "source": [
        "# Check if TPU is available.\n",
        "try:\n",
        "  # Get IP address and port. Accessible using RPC (Remote Procedure Call)\n",
        "  tpu_address = 'grpc://' + os.environ['COLAB_TPU_ADDR']\n",
        "  # Find TPU identifier/pointer for use in code.\n",
        "  tpu = tf.distribute.cluster_resolver.TPUClusterResolver(tpu_address)\n",
        "  tf.config.experimental_connect_to_cluster(tpu)\n",
        "  strategy = tf.distribute.TPUStrategy(tpu)\n",
        "  print('Running on TPU worker:', tpu.cluster_spec().as_dict()['worker'])\n",
        "  print('Number of accelerators: ', strategy.num_replicas_in_sync)\n",
        "except:\n",
        "  print('TPU did not initialize.')\n",
        "  raise\n"
      ]
    },
    {
      "cell_type": "code",
      "execution_count": null,
      "metadata": {
        "id": "N1vu61PHU8Kg"
      },
      "outputs": [],
      "source": []
    }
  ],
  "metadata": {
    "accelerator": "TPU",
    "colab": {
      "cell_execution_strategy": "setup",
      "provenance": []
    },
    "kernelspec": {
      "display_name": "Python 3",
      "name": "python3"
    },
    "language_info": {
      "name": "python",
      "version": "3.11.4"
    }
  },
  "nbformat": 4,
  "nbformat_minor": 0
}
